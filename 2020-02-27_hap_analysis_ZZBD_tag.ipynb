{
 "cells": [
  {
   "cell_type": "markdown",
   "metadata": {},
   "source": [
    "# Haplotype analysis tagging variant\n",
    "\n",
    "Extend the haplotype analysis to the tagging variant `2R:28491424`, which tags zzb and indels in UGS.\n",
    "\n",
    "## Input\n",
    "\n",
    "Input files:"
   ]
  },
  {
   "cell_type": "code",
   "execution_count": 1,
   "metadata": {},
   "outputs": [],
   "source": [
    "# output\n",
    "outdir   = \"results_TAG\" # where to store output\n",
    "outali   = \"results_TAG\" # where to store haplotype alignments\n",
    "popc     = \"population\"\n",
    "\n",
    "# gene of interest\n",
    "chrom     = \"2R\"\n",
    "l_nom     = \"cyp6\"     # nom loci\n",
    "loc_start = 28480576   # start CYP6 cluster\n",
    "loc_end   = 28505816   # end CYP6 cluster\n",
    "loc_p4    = 28491424   # polarizing mutation: tagging varaint that we found to be linked to zzb and indels\n",
    "\n",
    "# retain all variants between these coordinates\n",
    "ret_start  = 0  \n",
    "ret_end    = 100e6 # all variants\n",
    "\n",
    "# min frq to retain minor allele\n",
    "minfrq     = 0.05\n",
    "# input data phase1\n",
    "oc_metasam_fn = \"/home/xavi/dades/Variation/phase1.AR3/samples/samples.meta.txt\"\n",
    "oc_hapcall_fn = \"/home/xavi/dades/Variation/phase1.AR3/haplotypes/main/hdf5/ag1000g.phase1.ar3.haplotypes.2R.h5\" \n",
    "oc_effcall_fn = \"/home/xavi/dades/Variation/phase1.AR3/variation/zarr/ag1000g.phase1.ar3.pass/2R/\" \n",
    "oc_accessi_fn = \"/home/xavi/dades/Variation/phase1.AR3/accessibility/accessibility.h5\"    \n",
    "oc_popc       = popc\n",
    "oc_popl       = [\"BFS\",\"CMS\",\"GAS\",\"GNS\",\"CMS\",\"UGS\",\"AOM\",\"BFM\",\"GWA\",\"KES\"]\n",
    "\n",
    "\n",
    "# extra mutations (zanzibar, duplications, etc)\n",
    "kary_fn    = \"data/p1_UGS_extramutations_CYP6.csv\"\n",
    "# gff\n",
    "gffann_fn  = \"data/Anopheles-gambiae-PEST_BASEFEATURES_AgamP4.9.gff3\""
   ]
  },
  {
   "cell_type": "code",
   "execution_count": 2,
   "metadata": {},
   "outputs": [],
   "source": [
    "import numpy as np\n",
    "import zarr\n",
    "import pandas as pd\n",
    "import allel\n",
    "import h5py\n",
    "import warnings\n",
    "import scipy\n",
    "from scipy.spatial.distance import squareform\n",
    "import matplotlib.pyplot as plt\n",
    "import matplotlib.patches as mpatches\n",
    "from matplotlib.backends.backend_pdf import PdfPages\n",
    "from matplotlib import cm\n",
    "import seaborn as sns\n",
    "import itertools\n",
    "from mlxtend.evaluate import permutation_test\n",
    "warnings.simplefilter('ignore')\n",
    "import random\n",
    "\n",
    "%run scripts_helper/hapclust.py\n",
    "\n",
    "# load plot settings\n",
    "sns.set(context=\"notebook\",style=\"ticks\",\n",
    "        font_scale=1,font=\"Arial\",palette=\"bright\")"
   ]
  },
  {
   "cell_type": "markdown",
   "metadata": {},
   "source": [
    "Color palette for networks (must be named!):"
   ]
  },
  {
   "cell_type": "code",
   "execution_count": 3,
   "metadata": {},
   "outputs": [],
   "source": [
    "# define dictionary of pop colors\n",
    "pos_colors = {\n",
    "    \"BFS\" : \"deepskyblue\",\n",
    "    \"GAS\" : \"lightblue\",\n",
    "    \"GNS\" : \"blue\",\n",
    "    \"CMS\" : \"purple\",\n",
    "    \"UGS\" : \"orange\",\n",
    "    \"AOM\" : \"green\",\n",
    "    \"BFM\" : \"magenta\",\n",
    "    \"GWA\" : \"gray\",\n",
    "    \"KES\" : \"lightgray\"\n",
    "}\n",
    "\n",
    "var_colors = dict({\n",
    "    -1 : \"orange\",\n",
    "    0  : \"lightgray\",\n",
    "    1  : \"deepskyblue\",\n",
    "    2  : \"blue\",\n",
    "    3  : \"violet\",\n",
    "})\n"
   ]
  },
  {
   "cell_type": "markdown",
   "metadata": {},
   "source": [
    "## Load data\n",
    "\n",
    "### Phase1 variants\n",
    "\n",
    "Population and sample data:"
   ]
  },
  {
   "cell_type": "code",
   "execution_count": 4,
   "metadata": {},
   "outputs": [
    {
     "name": "stdout",
     "output_type": "stream",
     "text": [
      "Data:\n",
      "* Samples     =  765\n",
      "* Populations =  {'UGS', 'BFM', 'KES', 'GNS', 'GWA', 'AOM', 'BFS', 'CMS', 'GAS'}\n",
      "population\n",
      "AOM     60\n",
      "BFM     69\n",
      "BFS     81\n",
      "CMS    275\n",
      "GAS     56\n",
      "GNS     31\n",
      "GWA     46\n",
      "KES     44\n",
      "UGS    103\n",
      "dtype: int64\n"
     ]
    }
   ],
   "source": [
    "# load samples list with sample code, groupings, locations etc.\n",
    "oc_samples_df   = pd.read_csv(oc_metasam_fn, sep='\\t')\n",
    "oc_samples_bool = (oc_samples_df[oc_popc].isin(oc_popl).values)\n",
    "oc_samples      = oc_samples_df[oc_samples_bool]\n",
    "oc_samples.reset_index(drop=True, inplace=True)\n",
    "\n",
    "# indexed dictionary of populations\n",
    "oc_popdict = dict()\n",
    "for popi in oc_popl: \n",
    "    oc_popdict[popi]  = oc_samples[oc_samples[oc_popc] == popi].index.tolist()\n",
    "\n",
    "# add an extra population composed of all other locations\n",
    "oc_popdict[\"all\"] = []\n",
    "for popi in oc_popl:\n",
    "    oc_popdict[\"all\"] = oc_popdict[\"all\"] + oc_popdict[popi]\n",
    "\n",
    "\n",
    "# report\n",
    "print(\"Data:\")\n",
    "print(\"* Samples     = \", oc_samples.shape[0])\n",
    "print(\"* Populations = \", set(oc_samples[oc_popc]))\n",
    "print(oc_samples.groupby((\"population\")).size())"
   ]
  },
  {
   "cell_type": "markdown",
   "metadata": {},
   "source": [
    "Phased variants and genotypes:"
   ]
  },
  {
   "cell_type": "code",
   "execution_count": 5,
   "metadata": {},
   "outputs": [
    {
     "name": "stdout",
     "output_type": "stream",
     "text": [
      "Variants phased...\n",
      "(11332701,)\n",
      "Genotypes phased...\n",
      "(11332701, 765, 2)\n"
     ]
    }
   ],
   "source": [
    "# declare objects with variant data\n",
    "#oc_hapcall   = zarr.open(oc_hapcall_fn)\n",
    "oc_hapcall   = h5py.File(oc_hapcall_fn)\n",
    "# variants of genotypes\n",
    "print(\"Variants phased...\")\n",
    "oc_hapcall_var = oc_hapcall[chrom][\"variants\"]\n",
    "oc_hapvars = allel.VariantChunkedTable(oc_hapcall_var,names=[\"POS\",\"REF\",\"ALT\"],index=\"POS\") \n",
    "print(oc_hapvars.shape)\n",
    "# genotype data\n",
    "print(\"Genotypes phased...\")\n",
    "oc_hapcall_hap = oc_hapcall[chrom][\"calldata\"][\"genotype\"]\n",
    "oc_haploty     = allel.GenotypeChunkedArray(oc_hapcall_hap) \n",
    "oc_haploty     = oc_haploty.subset(sel1=oc_samples_bool)\n",
    "print(oc_haploty.shape)"
   ]
  },
  {
   "cell_type": "markdown",
   "metadata": {},
   "source": [
    "Effects:"
   ]
  },
  {
   "cell_type": "code",
   "execution_count": 6,
   "metadata": {},
   "outputs": [],
   "source": [
    "oc_effcall     = zarr.open(oc_effcall_fn)\n",
    "oc_effvars     = allel.VariantChunkedTable(oc_effcall[\"variants\"],names=[\n",
    "    \"POS\",\"REF\",\"ALT\",\"ANN_HGVS_p\",\"ANN_HGVS_c\",\n",
    "    \"ANN_Annotation\",\"ANN_AA_pos\",\"ANN_CDS_pos\",\n",
    "    \"ANN_Feature_ID\",\"ANN_Gene_ID\",\"ANN_Gene_Name\"\n",
    "],index=\"POS\") "
   ]
  },
  {
   "cell_type": "markdown",
   "metadata": {},
   "source": [
    "Is effect among phased variants?"
   ]
  },
  {
   "cell_type": "code",
   "execution_count": 7,
   "metadata": {},
   "outputs": [
    {
     "data": {
      "text/plain": [
       "(array([False,  True]), array([ 2748269, 11332701]))"
      ]
     },
     "execution_count": 7,
     "metadata": {},
     "output_type": "execute_result"
    }
   ],
   "source": [
    "is_eff_in_phased = np.isin(oc_effvars[\"POS\"], oc_hapvars[\"POS\"])\n",
    "np.unique(is_eff_in_phased,return_counts=True)"
   ]
  },
  {
   "cell_type": "markdown",
   "metadata": {},
   "source": [
    "Expand phase of phased variants:"
   ]
  },
  {
   "cell_type": "code",
   "execution_count": 8,
   "metadata": {},
   "outputs": [
    {
     "name": "stdout",
     "output_type": "stream",
     "text": [
      "Expand phase haplotypes...\n",
      "(11332701, 1530)\n"
     ]
    }
   ],
   "source": [
    "# recast haplotypes: drop ploidy\n",
    "print(\"Expand phase haplotypes...\")\n",
    "oc_haploty_hap = oc_haploty.to_haplotypes()\n",
    "print(oc_haploty_hap.shape)"
   ]
  },
  {
   "cell_type": "markdown",
   "metadata": {},
   "source": [
    "Is variant of interest there?"
   ]
  },
  {
   "cell_type": "code",
   "execution_count": 9,
   "metadata": {},
   "outputs": [
    {
     "data": {
      "text/plain": [
       "(array([False,  True]), array([11332700,        1]))"
      ]
     },
     "execution_count": 9,
     "metadata": {},
     "output_type": "execute_result"
    }
   ],
   "source": [
    "np.unique(oc_hapvars[\"POS\"] == loc_p4, return_counts=True)"
   ]
  },
  {
   "cell_type": "markdown",
   "metadata": {},
   "source": [
    "### Sample data\n",
    "\n",
    "Merge metadata files, with sample codes, species and populations, for variants:"
   ]
  },
  {
   "cell_type": "code",
   "execution_count": 10,
   "metadata": {},
   "outputs": [
    {
     "name": "stdout",
     "output_type": "stream",
     "text": [
      "Cast sample metadata...\n",
      "(765, 3)\n"
     ]
    }
   ],
   "source": [
    "print(\"Cast sample metadata...\")\n",
    "oc_samples = pd.DataFrame(data={\n",
    "    \"ox_code\"    :  oc_samples[\"ox_code\"].values.tolist() ,\n",
    "    \"species\"    :  oc_samples[\"m_s\"].values.astype(str).tolist(),\n",
    "    \"population\" :  oc_samples[oc_popc].values.tolist() ,\n",
    "})\n",
    "print(oc_samples.shape)\n",
    "\n",
    "# rename species...\n",
    "oc_samples[\"species\"].values[oc_samples[\"species\"].values == \"M\"]   = \"col\"\n",
    "oc_samples[\"species\"].values[oc_samples[\"species\"].values == \"S\"]   = \"gam\"\n",
    "oc_samples[\"species\"].values[oc_samples[\"species\"].values == \"M/S\"] = \"gamcol\"\n",
    "oc_samples[\"species\"].values[oc_samples[\"species\"].values == \"M-S\"] = \"gamcol\"\n",
    "oc_samples[\"species\"].values[oc_samples[\"species\"].values == \"nan\"] = \"gamcol\"\n",
    "\n",
    "# obtain full population & species list\n",
    "oc_popl = np.unique(oc_samples[\"population\"].values)\n",
    "oc_spsl = np.unique(oc_samples[\"species\"].values)"
   ]
  },
  {
   "cell_type": "markdown",
   "metadata": {},
   "source": [
    "Merge metadata files, with sample codes, species and populations, for expanded phased variants:"
   ]
  },
  {
   "cell_type": "code",
   "execution_count": 11,
   "metadata": {},
   "outputs": [
    {
     "name": "stdout",
     "output_type": "stream",
     "text": [
      "Cast sample metadata...\n",
      "(1530, 3)\n"
     ]
    }
   ],
   "source": [
    "print(\"Cast sample metadata...\")\n",
    "oc_sampleh = pd.DataFrame(data={\n",
    "    \"ox_code\"    :  list(itertools.chain(*[[ s + 'a', s + 'b'] for s in oc_samples[\"ox_code\"].values.tolist()])),    # takes col from oc_samples and duplicates it, a/b\n",
    "    \"species\"    :  list(itertools.chain(*[[ s      , s      ] for s in oc_samples[\"species\"].values.tolist()])),\n",
    "    \"population\" :  list(itertools.chain(*[[ s      , s      ] for s in oc_samples[\"population\"].values.tolist()]))\n",
    "})\n",
    "print(oc_sampleh.shape)"
   ]
  },
  {
   "cell_type": "markdown",
   "metadata": {},
   "source": [
    "Dictionaries of populations and species:"
   ]
  },
  {
   "cell_type": "code",
   "execution_count": 12,
   "metadata": {},
   "outputs": [
    {
     "name": "stdout",
     "output_type": "stream",
     "text": [
      "Population dict...\n",
      "Population dict phased...\n",
      "Species dict...\n",
      "Species dict phased...\n"
     ]
    }
   ],
   "source": [
    "print(\"Population dict...\")\n",
    "oc_popdict = dict()\n",
    "for popi in oc_popl: \n",
    "    oc_popdict[popi]  = oc_samples[oc_samples[\"population\"] == popi].index.tolist()\n",
    "oc_popdict[\"all\"] = []\n",
    "for popi in oc_popl:\n",
    "    oc_popdict[\"all\"] = oc_popdict[\"all\"] + oc_popdict[popi]\n",
    "\n",
    "print(\"Population dict phased...\")\n",
    "oc_popdich = dict()\n",
    "for popi in oc_popl: \n",
    "    oc_popdich[popi]  = oc_sampleh[oc_sampleh[\"population\"] == popi].index.tolist()\n",
    "oc_popdich[\"all\"] = []\n",
    "for popi in oc_popl:\n",
    "    oc_popdich[\"all\"] = oc_popdich[\"all\"] + oc_popdich[popi]\n",
    "\n",
    "print(\"Species dict...\")\n",
    "oc_spsdict = dict()\n",
    "for spsi in oc_spsl: \n",
    "    oc_spsdict[spsi]  = oc_samples[oc_samples[\"species\"] == spsi].index.tolist()\n",
    "    \n",
    "print(\"Species dict phased...\")\n",
    "oc_spsdich = dict()\n",
    "for spsi in oc_spsl: \n",
    "    oc_spsdich[spsi]  = oc_sampleh[oc_sampleh[\"species\"] == spsi].index.tolist()"
   ]
  },
  {
   "cell_type": "markdown",
   "metadata": {},
   "source": [
    "### Allele counts\n",
    "\n",
    "Using both dictionaries:"
   ]
  },
  {
   "cell_type": "code",
   "execution_count": 13,
   "metadata": {},
   "outputs": [
    {
     "name": "stdout",
     "output_type": "stream",
     "text": [
      "Genotypes phased to allele counts (population)...\n",
      "(11332701,)\n",
      "Haplotypes phased to allele counts (population)...\n",
      "(11332701,)\n"
     ]
    }
   ],
   "source": [
    "print(\"Genotypes phased to allele counts (population)...\")\n",
    "oc_hapalco_pop = oc_haploty.count_alleles_subpops(subpops=oc_popdict)\n",
    "print(oc_hapalco_pop.shape)\n",
    "\n",
    "print(\"Haplotypes phased to allele counts (population)...\")\n",
    "oc_hapalco_hap_pop = oc_haploty_hap.count_alleles_subpops(subpops=oc_popdich)\n",
    "print(oc_hapalco_hap_pop.shape)"
   ]
  },
  {
   "cell_type": "markdown",
   "metadata": {},
   "source": [
    "### Filters\n",
    "\n",
    "#### Retain segregating and non-singletons\n",
    "\n",
    "Define which phased variants to retain from phase1 (all other datasets will be recast to fit this):"
   ]
  },
  {
   "cell_type": "code",
   "execution_count": 14,
   "metadata": {},
   "outputs": [
    {
     "name": "stdout",
     "output_type": "stream",
     "text": [
      "Filters phased...\n",
      "(7629561, 765, 2) / (11332701, 765, 2)\n"
     ]
    }
   ],
   "source": [
    "# subset data: segregating alleles, biallelic and no singletons\n",
    "print(\"Filters phased...\")\n",
    "oc_is_seg_h    = oc_hapalco_hap_pop[\"all\"].is_segregating()[:] # segregating\n",
    "oc_is_nosing_h = oc_hapalco_hap_pop[\"all\"][:,:2].min(axis=1)>1 # no singletons\n",
    "\n",
    "# subset phase2 to seg, nosing, biallelic & outgroup size\n",
    "oc_hapvars_seg         = oc_hapvars.compress((oc_is_seg_h & oc_is_nosing_h))\n",
    "oc_haploty_seg         = oc_haploty.compress((oc_is_seg_h & oc_is_nosing_h))\n",
    "oc_hapalco_pop_seg     = oc_hapalco_pop.compress((oc_is_seg_h & oc_is_nosing_h))\n",
    "oc_haploty_hap_seg     = oc_haploty_hap.compress((oc_is_seg_h & oc_is_nosing_h))\n",
    "oc_hapalco_hap_pop_seg = oc_hapalco_hap_pop.compress((oc_is_seg_h & oc_is_nosing_h))\n",
    "\n",
    "# report\n",
    "print(oc_haploty_seg.shape,\"/\", oc_haploty.shape)"
   ]
  },
  {
   "cell_type": "markdown",
   "metadata": {},
   "source": [
    "Same for variant effects:"
   ]
  },
  {
   "cell_type": "code",
   "execution_count": 15,
   "metadata": {},
   "outputs": [
    {
     "data": {
      "text/plain": [
       "(7629561,)"
      ]
     },
     "execution_count": 15,
     "metadata": {},
     "output_type": "execute_result"
    }
   ],
   "source": [
    "oc_effvars_seg_pos = oc_effvars[\"POS\"][:][is_eff_in_phased].compress((oc_is_seg_h & oc_is_nosing_h))\n",
    "oc_effvars_seg_ref = oc_effvars[\"REF\"][:][is_eff_in_phased].compress((oc_is_seg_h & oc_is_nosing_h))\n",
    "oc_effvars_seg_alt = oc_effvars[\"ALT\"][:][is_eff_in_phased].compress((oc_is_seg_h & oc_is_nosing_h))\n",
    "oc_effvars_seg_gen = oc_effvars[\"ANN_Feature_ID\"][:][is_eff_in_phased].compress((oc_is_seg_h & oc_is_nosing_h))\n",
    "oc_effvars_seg_pep = oc_effvars[\"ANN_HGVS_p\"][:][is_eff_in_phased].compress((oc_is_seg_h & oc_is_nosing_h))\n",
    "oc_effvars_seg_cds = oc_effvars[\"ANN_HGVS_c\"][:][is_eff_in_phased].compress((oc_is_seg_h & oc_is_nosing_h))\n",
    "oc_effvars_seg_typ = oc_effvars[\"ANN_Annotation\"][:][is_eff_in_phased].compress((oc_is_seg_h & oc_is_nosing_h))\n",
    "oc_effvars_seg_pep.shape"
   ]
  },
  {
   "cell_type": "markdown",
   "metadata": {},
   "source": [
    "Create array of printable variant names:"
   ]
  },
  {
   "cell_type": "code",
   "execution_count": 16,
   "metadata": {},
   "outputs": [],
   "source": [
    "oc_snpname_seg = np.array(\n",
    "    [chrom+\":\"+x1+\" \"+x2+\" \"+x3 for x1,x2,x3 in zip(\n",
    "        oc_effvars_seg_pos.astype(str),\n",
    "        oc_effvars_seg_gen.astype(str),\n",
    "        oc_effvars_seg_pep.astype(str),\n",
    "    )]\n",
    ")"
   ]
  },
  {
   "cell_type": "markdown",
   "metadata": {},
   "source": [
    "#### Retain min frequency and location\n",
    "\n",
    "Is variant above certain minimum frequency? "
   ]
  },
  {
   "cell_type": "code",
   "execution_count": 17,
   "metadata": {},
   "outputs": [],
   "source": [
    "# allele counts table per pop\n",
    "co_major = pd.DataFrame() \n",
    "co_minor = pd.DataFrame()\n",
    "fq_minor = pd.DataFrame()\n",
    "for popi in oc_popl: \n",
    "    co_major[popi] = oc_hapalco_pop_seg[popi][:,0]\n",
    "    co_minor[popi] = oc_hapalco_pop_seg[popi][:,1]\n",
    "    fq_minor[popi] = oc_hapalco_pop_seg[popi][:,1] / oc_hapalco_pop_seg[popi][:,0:2].sum(axis=1)\n",
    "co_major[\"all\"] = co_major.sum(axis=1)\n",
    "co_minor[\"all\"] = co_minor.sum(axis=1)\n",
    "fq_minor[\"all\"] = co_minor.sum(axis=1) / (co_minor.sum(axis=1)+co_major.sum(axis=1))\n",
    "\n",
    "# subset data: keep variants with at least 5% freq in at least one pop\n",
    "is_minfq  = np.logical_and(fq_minor.max(axis=1) > minfrq, fq_minor.min(axis=1) < 1-minfrq)"
   ]
  },
  {
   "cell_type": "markdown",
   "metadata": {},
   "source": [
    "Is variant in the loci of interest? (useful for reporting)"
   ]
  },
  {
   "cell_type": "code",
   "execution_count": 18,
   "metadata": {},
   "outputs": [],
   "source": [
    "is_in_loci = np.logical_and(oc_hapvars_seg[\"POS\"] >= loc_start, oc_hapvars_seg[\"POS\"] <= loc_end)"
   ]
  },
  {
   "cell_type": "markdown",
   "metadata": {},
   "source": [
    "Is variant non syn?"
   ]
  },
  {
   "cell_type": "code",
   "execution_count": 19,
   "metadata": {},
   "outputs": [],
   "source": [
    "is_nonsyn  = oc_effvars_seg_typ == \"missense_variant\""
   ]
  },
  {
   "cell_type": "markdown",
   "metadata": {},
   "source": [
    "Should variant frequency be reported? (in loci, nonsyn, min freq, segregating, non singleton):"
   ]
  },
  {
   "cell_type": "code",
   "execution_count": 20,
   "metadata": {},
   "outputs": [
    {
     "name": "stdout",
     "output_type": "stream",
     "text": [
      "in loci:                     2398\n",
      "in loci, nonsyn and min frq: 208\n"
     ]
    }
   ],
   "source": [
    "# report\n",
    "is_report  = (is_in_loci & is_minfq & is_nonsyn)\n",
    "print(\"in loci:                    \",sum(is_in_loci))\n",
    "print(\"in loci, nonsyn and min frq:\",sum(is_report))"
   ]
  },
  {
   "cell_type": "markdown",
   "metadata": {},
   "source": [
    "Print table with variants, effects and frequencies per population:"
   ]
  },
  {
   "cell_type": "code",
   "execution_count": 21,
   "metadata": {},
   "outputs": [],
   "source": [
    "# print table\n",
    "fq_repor = pd.DataFrame(data={\n",
    "    \"chr\"      : [chrom] * co_minor[is_in_loci].shape[0],\n",
    "    \"POS\"      : oc_hapvars_seg[\"POS\"].subset(sel0=is_in_loci)[:].astype(str),\n",
    "    \"REF\"      : oc_hapvars_seg[\"REF\"].subset(sel0=is_in_loci)[:].astype(str),\n",
    "    \"ALT\"      : oc_hapvars_seg[\"ALT\"].subset(sel0=is_in_loci)[:].astype(str),\n",
    "    \"is_nonsyn\": is_nonsyn[is_in_loci],\n",
    "    \"gene_eff\" : oc_effvars_seg_gen[is_in_loci].astype(str),\n",
    "    \"PEP_eff\"  : oc_effvars_seg_pep[is_in_loci].astype(str),\n",
    "    \"CDS_eff\"  : oc_effvars_seg_cds[is_in_loci].astype(str),\n",
    "},\n",
    "columns=[\"chr\",\"POS\",\"REF\",\"ALT\",\"gene_eff\",\"PEP_eff\",\"CDS_eff\",\"is_nonsyn\"]\n",
    ")\n",
    "fq_repor = pd.concat([fq_repor,fq_minor[is_in_loci].reset_index()],axis=1)\n",
    "fq_repor.to_csv(\"%s/allele_fq.csv\" % (outdir),sep=\"\\t\",index=False)"
   ]
  },
  {
   "cell_type": "markdown",
   "metadata": {},
   "source": [
    "Print table with genotypes of nonsyn variants, per sample:"
   ]
  },
  {
   "cell_type": "code",
   "execution_count": 22,
   "metadata": {},
   "outputs": [],
   "source": [
    "# dataframe with pops\n",
    "gt_repor = pd.DataFrame(data={\n",
    "    \"ox_code\"    : oc_samples[\"ox_code\"],\n",
    "    \"population\" : oc_samples[\"population\"],\n",
    "    \"species\"    : oc_samples[\"species\"],\n",
    "}\n",
    ")\n",
    "\n",
    "# retrieve 012 genotypes for report\n",
    "gt_gtysa = pd.DataFrame(np.transpose(oc_haploty_seg.subset(sel0=is_report).to_n_alt(fill=-1)))\n",
    "gt_gtysa.columns = oc_snpname_seg[is_report]\n",
    "\n",
    "# print\n",
    "gt_repor = pd.concat([gt_repor, gt_gtysa],axis=1)\n",
    "gt_repor.to_csv(\"%s/allele_genotypes.csv\" % (outdir),sep=\"\\t\",index=False)"
   ]
  },
  {
   "cell_type": "markdown",
   "metadata": {},
   "source": [
    "### Other data\n",
    "\n",
    "Accessibility:"
   ]
  },
  {
   "cell_type": "code",
   "execution_count": 23,
   "metadata": {},
   "outputs": [
    {
     "name": "stdout",
     "output_type": "stream",
     "text": [
      "Load accessibility array...\n"
     ]
    }
   ],
   "source": [
    "# Accessibility\n",
    "print(\"Load accessibility array...\")\n",
    "accessi_df  = h5py.File(oc_accessi_fn,mode=\"r\")\n",
    "accessi_arr = accessi_df[chrom][\"is_accessible\"][:]"
   ]
  },
  {
   "cell_type": "markdown",
   "metadata": {},
   "source": [
    "Gene annotations GFF:"
   ]
  },
  {
   "cell_type": "code",
   "execution_count": 24,
   "metadata": {},
   "outputs": [],
   "source": [
    "# import gff\n",
    "def geneset_gff(geneset):\n",
    "    items = []\n",
    "    for n in geneset.dtype.names:\n",
    "        v = geneset[n]\n",
    "        if v.dtype.kind == 'S':\n",
    "            v = v.astype('U')\n",
    "        items.append((n, v))\n",
    "    return pd.DataFrame.from_items(items)\n",
    "%run scripts_helper/plot_transcripts.py\n",
    "\n",
    "geneset = allel.FeatureTable.from_gff3(gffann_fn,attributes=['ID', 'Parent'])\n",
    "geneset = geneset_gff(geneset)\n"
   ]
  },
  {
   "cell_type": "code",
   "execution_count": 25,
   "metadata": {},
   "outputs": [
    {
     "data": {
      "text/html": [
       "<div>\n",
       "<style scoped>\n",
       "    .dataframe tbody tr th:only-of-type {\n",
       "        vertical-align: middle;\n",
       "    }\n",
       "\n",
       "    .dataframe tbody tr th {\n",
       "        vertical-align: top;\n",
       "    }\n",
       "\n",
       "    .dataframe thead th {\n",
       "        text-align: right;\n",
       "    }\n",
       "</style>\n",
       "<table border=\"1\" class=\"dataframe\">\n",
       "  <thead>\n",
       "    <tr style=\"text-align: right;\">\n",
       "      <th></th>\n",
       "      <th>seqid</th>\n",
       "      <th>source</th>\n",
       "      <th>type</th>\n",
       "      <th>start</th>\n",
       "      <th>end</th>\n",
       "      <th>score</th>\n",
       "      <th>strand</th>\n",
       "      <th>phase</th>\n",
       "      <th>ID</th>\n",
       "      <th>Parent</th>\n",
       "    </tr>\n",
       "  </thead>\n",
       "  <tbody>\n",
       "    <tr>\n",
       "      <th>69657</th>\n",
       "      <td>2R</td>\n",
       "      <td>VectorBase</td>\n",
       "      <td>mRNA</td>\n",
       "      <td>28497087</td>\n",
       "      <td>28498674</td>\n",
       "      <td>-1.0</td>\n",
       "      <td>-</td>\n",
       "      <td>-1</td>\n",
       "      <td>AGAP002867-RA</td>\n",
       "      <td>AGAP002867</td>\n",
       "    </tr>\n",
       "  </tbody>\n",
       "</table>\n",
       "</div>"
      ],
      "text/plain": [
       "      seqid      source  type     start       end  score strand  phase  \\\n",
       "69657    2R  VectorBase  mRNA  28497087  28498674   -1.0      -     -1   \n",
       "\n",
       "                  ID      Parent  \n",
       "69657  AGAP002867-RA  AGAP002867  "
      ]
     },
     "execution_count": 25,
     "metadata": {},
     "output_type": "execute_result"
    }
   ],
   "source": [
    "geneset[geneset[\"Parent\"] == \"AGAP002867\"]"
   ]
  },
  {
   "cell_type": "markdown",
   "metadata": {},
   "source": [
    "## Haplotype networks\n",
    "\n",
    "Visualize haplotype similarity with **haplotype networks**, built from phased variants around the `I236M CYP6P4` mutation."
   ]
  },
  {
   "cell_type": "code",
   "execution_count": 26,
   "metadata": {},
   "outputs": [
    {
     "name": "stdout",
     "output_type": "stream",
     "text": [
      "Is 28491424 centre in phased array? True: index 6808210 \n"
     ]
    }
   ],
   "source": [
    "# input hap networks\n",
    "loc_vari = loc_p4     # variable to use as focus of hap networks -> position in the genome\n",
    "loc_varn = \"centre\"   # name it\n",
    "\n",
    "# parameters hap networks\n",
    "fbp_hap  = 2e4     # num bp to retain around variant of interest (allele) to define core haplotyes, CC uses 6kbp\n",
    "max_dist = 5       # dist that breaks edges; default is 5; CC uses 2 -> if network method is MJN, then it doesn't work for max_dist>1!!!!\n",
    "max_alle = 1       # indirect variant breaks\n",
    "net_meth = \"msn\"   # can be: minimum_spanning_network msn ; minimum_spanning_tree mst ; median_joining_network mjt\n",
    "min_fq_h = 0.01    # min freq of the haplotype cluster, below that the component will be excluded from plots\n",
    "min_fc_h = int(min_fq_h*oc_haploty_hap_seg.shape[1])\n",
    "\n",
    "loc_vari_bool = np.any(oc_hapvars[\"POS\"]   == loc_vari)\n",
    "loc_vari_ix   = np.where(oc_hapvars[\"POS\"] == loc_vari)[0][0]\n",
    "\n",
    "# report\n",
    "print(\"Is %i %s in phased array? %s: index %i \" % (loc_vari,loc_varn,loc_vari_bool,loc_vari_ix))"
   ]
  },
  {
   "cell_type": "markdown",
   "metadata": {},
   "source": [
    "Subset haplotypes to focus on variants around focal locus:"
   ]
  },
  {
   "cell_type": "code",
   "execution_count": 27,
   "metadata": {},
   "outputs": [
    {
     "name": "stdout",
     "output_type": "stream",
     "text": [
      "Phased variants and samples around 28491424: (4305, 1530)\n"
     ]
    }
   ],
   "source": [
    "# subset hap arrays to fit loci of interest (loci centre +/- fbp_hap)\n",
    "loc_pos_ix = allel.SortedIndex(oc_hapvars_seg['POS'])\n",
    "loc_pos_rn = loc_pos_ix.locate_range(loc_vari-fbp_hap,loc_vari+fbp_hap)\n",
    "\n",
    "# snp name\n",
    "oc_snpname_seg_mis = oc_snpname_seg\n",
    "loc_hap    = oc_haploty_hap_seg[loc_pos_rn]\n",
    "loc_snpnom = oc_effvars_seg_pep[loc_pos_rn]\n",
    "\n",
    "# report\n",
    "print(\"Phased variants and samples around %s:\" % loc_vari,loc_hap.shape)\n",
    "\n",
    "# color arrays\n",
    "loc_colpos = np.array([pos_colors[p] for p in oc_sampleh[\"population\"].values])\n",
    "loc_gty_A  = oc_haploty_hap_seg[ np.where(loc_pos_ix==loc_vari)[0][0] ]       # genotype of A296G\n",
    "loc_gty_T  = loc_gty_A\n",
    "loc_colvar = np.array([var_colors[p] for p in loc_gty_T])"
   ]
  },
  {
   "cell_type": "markdown",
   "metadata": {},
   "source": [
    "Build **hap networks colored by population**, and store which samples are in which component:"
   ]
  },
  {
   "cell_type": "code",
   "execution_count": 28,
   "metadata": {},
   "outputs": [
    {
     "name": "stderr",
     "output_type": "stream",
     "text": [
      "Warning: node '296', graph '%3' size too small for label\n",
      "Warning: node '300', graph '%3' size too small for label\n",
      "Warning: node '328', graph '%3' size too small for label\n",
      "Warning: node '661', graph '%3' size too small for label\n",
      "Warning: node '728', graph '%3' size too small for label\n",
      "Warning: gvrender_set_style: unsupported style normal - ignoring\n",
      "Warning: gvrender_set_style: unsupported style normal - ignoring\n",
      "Warning: gvrender_set_style: unsupported style normal - ignoring\n",
      "Warning: gvrender_set_style: unsupported style normal - ignoring\n",
      "Warning: gvrender_set_style: unsupported style normal - ignoring\n",
      "Warning: gvrender_set_style: unsupported style normal - ignoring\n",
      "Warning: gvrender_set_style: unsupported style normal - ignoring\n",
      "Warning: gvrender_set_style: unsupported style normal - ignoring\n",
      "Warning: gvrender_set_style: unsupported style normal - ignoring\n",
      "Warning: gvrender_set_style: unsupported style normal - ignoring\n",
      "Warning: gvrender_set_style: unsupported style normal - ignoring\n",
      "Warning: gvrender_set_style: unsupported style normal - ignoring\n",
      "Warning: gvrender_set_style: unsupported style normal - ignoring\n",
      "Warning: gvrender_set_style: unsupported style normal - ignoring\n",
      "Warning: gvrender_set_style: unsupported style normal - ignoring\n",
      "Warning: gvrender_set_style: unsupported style normal - ignoring\n",
      "Warning: gvrender_set_style: unsupported style normal - ignoring\n",
      "Warning: gvrender_set_style: unsupported style normal - ignoring\n",
      "Warning: gvrender_set_style: unsupported style normal - ignoring\n",
      "Warning: gvrender_set_style: unsupported style normal - ignoring\n",
      "Warning: gvrender_set_style: unsupported style normal - ignoring\n",
      "Warning: gvrender_set_style: unsupported style normal - ignoring\n",
      "Warning: gvrender_set_style: unsupported style normal - ignoring\n",
      "Warning: gvrender_set_style: unsupported style normal - ignoring\n",
      "Warning: gvrender_set_style: unsupported style normal - ignoring\n",
      "Warning: gvrender_set_style: unsupported style normal - ignoring\n",
      "Warning: gvrender_set_style: unsupported style normal - ignoring\n",
      "Warning: gvrender_set_style: unsupported style normal - ignoring\n",
      "Warning: gvrender_set_style: unsupported style normal - ignoring\n",
      "Warning: gvrender_set_style: unsupported style normal - ignoring\n",
      "Warning: gvrender_set_style: unsupported style normal - ignoring\n",
      "Warning: gvrender_set_style: unsupported style normal - ignoring\n",
      "Warning: gvrender_set_style: unsupported style normal - ignoring\n",
      "Warning: gvrender_set_style: unsupported style normal - ignoring\n",
      "Warning: gvrender_set_style: unsupported style normal - ignoring\n",
      "Warning: gvrender_set_style: unsupported style normal - ignoring\n",
      "Warning: gvrender_set_style: unsupported style normal - ignoring\n",
      "Warning: gvrender_set_style: unsupported style normal - ignoring\n",
      "Warning: gvrender_set_style: unsupported style normal - ignoring\n",
      "Warning: gvrender_set_style: unsupported style normal - ignoring\n",
      "Warning: gvrender_set_style: unsupported style normal - ignoring\n",
      "Warning: gvrender_set_style: unsupported style normal - ignoring\n",
      "Warning: gvrender_set_style: unsupported style normal - ignoring\n",
      "Warning: gvrender_set_style: unsupported style normal - ignoring\n",
      "Warning: gvrender_set_style: unsupported style normal - ignoring\n",
      "Warning: gvrender_set_style: unsupported style normal - ignoring\n",
      "Warning: gvrender_set_style: unsupported style normal - ignoring\n",
      "Warning: gvrender_set_style: unsupported style normal - ignoring\n",
      "Warning: gvrender_set_style: unsupported style normal - ignoring\n",
      "Warning: gvrender_set_style: unsupported style normal - ignoring\n",
      "Warning: gvrender_set_style: unsupported style normal - ignoring\n",
      "Warning: gvrender_set_style: unsupported style normal - ignoring\n",
      "Warning: gvrender_set_style: unsupported style normal - ignoring\n",
      "Warning: gvrender_set_style: unsupported style normal - ignoring\n",
      "Warning: gvrender_set_style: unsupported style normal - ignoring\n",
      "Warning: gvrender_set_style: unsupported style normal - ignoring\n",
      "Warning: gvrender_set_style: unsupported style normal - ignoring\n",
      "Warning: gvrender_set_style: unsupported style normal - ignoring\n",
      "Warning: gvrender_set_style: unsupported style normal - ignoring\n",
      "Warning: gvrender_set_style: unsupported style normal - ignoring\n",
      "Warning: gvrender_set_style: unsupported style normal - ignoring\n",
      "Warning: gvrender_set_style: unsupported style normal - ignoring\n",
      "Warning: gvrender_set_style: unsupported style normal - ignoring\n",
      "Warning: gvrender_set_style: unsupported style normal - ignoring\n",
      "Warning: gvrender_set_style: unsupported style normal - ignoring\n",
      "Warning: gvrender_set_style: unsupported style normal - ignoring\n",
      "Warning: gvrender_set_style: unsupported style normal - ignoring\n",
      "Warning: gvrender_set_style: unsupported style normal - ignoring\n",
      "Warning: gvrender_set_style: unsupported style normal - ignoring\n",
      "Warning: gvrender_set_style: unsupported style normal - ignoring\n",
      "Warning: gvrender_set_style: unsupported style normal - ignoring\n",
      "Warning: gvrender_set_style: unsupported style normal - ignoring\n",
      "Warning: gvrender_set_style: unsupported style normal - ignoring\n",
      "Warning: gvrender_set_style: unsupported style normal - ignoring\n",
      "Warning: gvrender_set_style: unsupported style normal - ignoring\n",
      "Warning: gvrender_set_style: unsupported style normal - ignoring\n",
      "Warning: gvrender_set_style: unsupported style normal - ignoring\n",
      "Warning: gvrender_set_style: unsupported style normal - ignoring\n",
      "Warning: gvrender_set_style: unsupported style normal - ignoring\n",
      "Warning: gvrender_set_style: unsupported style normal - ignoring\n",
      "Warning: gvrender_set_style: unsupported style normal - ignoring\n",
      "Warning: gvrender_set_style: unsupported style normal - ignoring\n",
      "Warning: gvrender_set_style: unsupported style normal - ignoring\n",
      "Warning: gvrender_set_style: unsupported style normal - ignoring\n",
      "Warning: gvrender_set_style: unsupported style normal - ignoring\n",
      "Warning: gvrender_set_style: unsupported style normal - ignoring\n",
      "Warning: gvrender_set_style: unsupported style normal - ignoring\n",
      "Warning: gvrender_set_style: unsupported style normal - ignoring\n",
      "Warning: gvrender_set_style: unsupported style normal - ignoring\n",
      "Warning: gvrender_set_style: unsupported style normal - ignoring\n",
      "Warning: gvrender_set_style: unsupported style normal - ignoring\n",
      "Warning: gvrender_set_style: unsupported style normal - ignoring\n",
      "Warning: gvrender_set_style: unsupported style normal - ignoring\n",
      "Warning: gvrender_set_style: unsupported style normal - ignoring\n",
      "Warning: gvrender_set_style: unsupported style normal - ignoring\n",
      "Warning: gvrender_set_style: unsupported style normal - ignoring\n",
      "Warning: gvrender_set_style: unsupported style normal - ignoring\n",
      "Warning: gvrender_set_style: unsupported style normal - ignoring\n",
      "Warning: gvrender_set_style: unsupported style normal - ignoring\n",
      "Warning: gvrender_set_style: unsupported style normal - ignoring\n",
      "Warning: gvrender_set_style: unsupported style normal - ignoring\n",
      "Warning: gvrender_set_style: unsupported style normal - ignoring\n",
      "Warning: gvrender_set_style: unsupported style normal - ignoring\n",
      "Warning: gvrender_set_style: unsupported style normal - ignoring\n",
      "Warning: gvrender_set_style: unsupported style normal - ignoring\n",
      "Warning: gvrender_set_style: unsupported style normal - ignoring\n",
      "Warning: gvrender_set_style: unsupported style normal - ignoring\n",
      "Warning: gvrender_set_style: unsupported style normal - ignoring\n",
      "Warning: gvrender_set_style: unsupported style normal - ignoring\n",
      "Warning: gvrender_set_style: unsupported style normal - ignoring\n",
      "Warning: gvrender_set_style: unsupported style normal - ignoring\n",
      "Warning: gvrender_set_style: unsupported style normal - ignoring\n",
      "Warning: gvrender_set_style: unsupported style normal - ignoring\n",
      "Warning: gvrender_set_style: unsupported style normal - ignoring\n",
      "Warning: gvrender_set_style: unsupported style normal - ignoring\n",
      "Warning: gvrender_set_style: unsupported style normal - ignoring\n",
      "Warning: gvrender_set_style: unsupported style normal - ignoring\n",
      "Warning: gvrender_set_style: unsupported style normal - ignoring\n",
      "Warning: gvrender_set_style: unsupported style normal - ignoring\n",
      "Warning: gvrender_set_style: unsupported style normal - ignoring\n",
      "Warning: gvrender_set_style: unsupported style normal - ignoring\n",
      "Warning: gvrender_set_style: unsupported style normal - ignoring\n",
      "Warning: gvrender_set_style: unsupported style normal - ignoring\n",
      "Warning: gvrender_set_style: unsupported style normal - ignoring\n",
      "Warning: gvrender_set_style: unsupported style normal - ignoring\n",
      "Warning: gvrender_set_style: unsupported style normal - ignoring\n",
      "Warning: gvrender_set_style: unsupported style normal - ignoring\n",
      "Warning: gvrender_set_style: unsupported style normal - ignoring\n",
      "Warning: gvrender_set_style: unsupported style normal - ignoring\n",
      "Warning: gvrender_set_style: unsupported style normal - ignoring\n",
      "Warning: gvrender_set_style: unsupported style normal - ignoring\n",
      "Warning: gvrender_set_style: unsupported style normal - ignoring\n",
      "Warning: gvrender_set_style: unsupported style normal - ignoring\n",
      "Warning: gvrender_set_style: unsupported style normal - ignoring\n",
      "Warning: gvrender_set_style: unsupported style normal - ignoring\n",
      "Warning: gvrender_set_style: unsupported style normal - ignoring\n",
      "Warning: gvrender_set_style: unsupported style normal - ignoring\n",
      "Warning: gvrender_set_style: unsupported style normal - ignoring\n",
      "Warning: gvrender_set_style: unsupported style normal - ignoring\n",
      "Warning: gvrender_set_style: unsupported style normal - ignoring\n",
      "Warning: gvrender_set_style: unsupported style normal - ignoring\n",
      "Warning: gvrender_set_style: unsupported style normal - ignoring\n",
      "Warning: gvrender_set_style: unsupported style normal - ignoring\n",
      "Warning: gvrender_set_style: unsupported style normal - ignoring\n",
      "Warning: gvrender_set_style: unsupported style normal - ignoring\n",
      "Warning: gvrender_set_style: unsupported style normal - ignoring\n",
      "Warning: gvrender_set_style: unsupported style normal - ignoring\n",
      "Warning: gvrender_set_style: unsupported style normal - ignoring\n",
      "Warning: gvrender_set_style: unsupported style normal - ignoring\n",
      "Warning: gvrender_set_style: unsupported style normal - ignoring\n",
      "Warning: gvrender_set_style: unsupported style normal - ignoring\n",
      "Warning: gvrender_set_style: unsupported style normal - ignoring\n",
      "Warning: gvrender_set_style: unsupported style normal - ignoring\n",
      "Warning: gvrender_set_style: unsupported style normal - ignoring\n",
      "Warning: gvrender_set_style: unsupported style normal - ignoring\n",
      "Warning: gvrender_set_style: unsupported style normal - ignoring\n",
      "Warning: gvrender_set_style: unsupported style normal - ignoring\n",
      "Warning: gvrender_set_style: unsupported style normal - ignoring\n",
      "Warning: gvrender_set_style: unsupported style normal - ignoring\n",
      "Warning: gvrender_set_style: unsupported style normal - ignoring\n",
      "Warning: gvrender_set_style: unsupported style normal - ignoring\n",
      "Warning: gvrender_set_style: unsupported style normal - ignoring\n",
      "Warning: gvrender_set_style: unsupported style normal - ignoring\n",
      "Warning: gvrender_set_style: unsupported style normal - ignoring\n",
      "Warning: gvrender_set_style: unsupported style normal - ignoring\n",
      "Warning: gvrender_set_style: unsupported style normal - ignoring\n",
      "Warning: gvrender_set_style: unsupported style normal - ignoring\n",
      "Warning: gvrender_set_style: unsupported style normal - ignoring\n",
      "Warning: gvrender_set_style: unsupported style normal - ignoring\n",
      "Warning: gvrender_set_style: unsupported style normal - ignoring\n",
      "Warning: gvrender_set_style: unsupported style normal - ignoring\n",
      "Warning: gvrender_set_style: unsupported style normal - ignoring\n",
      "Warning: gvrender_set_style: unsupported style normal - ignoring\n",
      "Warning: gvrender_set_style: unsupported style normal - ignoring\n",
      "Warning: gvrender_set_style: unsupported style normal - ignoring\n",
      "Warning: gvrender_set_style: unsupported style normal - ignoring\n",
      "Warning: gvrender_set_style: unsupported style normal - ignoring\n",
      "Warning: gvrender_set_style: unsupported style normal - ignoring\n",
      "Warning: gvrender_set_style: unsupported style normal - ignoring\n",
      "Warning: gvrender_set_style: unsupported style normal - ignoring\n",
      "Warning: gvrender_set_style: unsupported style normal - ignoring\n",
      "Warning: gvrender_set_style: unsupported style normal - ignoring\n",
      "Warning: gvrender_set_style: unsupported style normal - ignoring\n",
      "Warning: gvrender_set_style: unsupported style normal - ignoring\n",
      "Warning: gvrender_set_style: unsupported style normal - ignoring\n",
      "Warning: gvrender_set_style: unsupported style normal - ignoring\n",
      "Warning: gvrender_set_style: unsupported style normal - ignoring\n",
      "Warning: gvrender_set_style: unsupported style normal - ignoring\n",
      "Warning: gvrender_set_style: unsupported style normal - ignoring\n",
      "Warning: gvrender_set_style: unsupported style normal - ignoring\n",
      "Warning: gvrender_set_style: unsupported style normal - ignoring\n",
      "Warning: gvrender_set_style: unsupported style normal - ignoring\n",
      "Warning: gvrender_set_style: unsupported style normal - ignoring\n",
      "Warning: gvrender_set_style: unsupported style normal - ignoring\n",
      "Warning: gvrender_set_style: unsupported style normal - ignoring\n",
      "Warning: gvrender_set_style: unsupported style normal - ignoring\n",
      "Warning: gvrender_set_style: unsupported style normal - ignoring\n",
      "Warning: gvrender_set_style: unsupported style normal - ignoring\n",
      "Warning: gvrender_set_style: unsupported style normal - ignoring\n",
      "Warning: gvrender_set_style: unsupported style normal - ignoring\n",
      "Warning: gvrender_set_style: unsupported style normal - ignoring\n",
      "Warning: gvrender_set_style: unsupported style normal - ignoring\n",
      "Warning: gvrender_set_style: unsupported style normal - ignoring\n",
      "Warning: gvrender_set_style: unsupported style normal - ignoring\n",
      "Warning: gvrender_set_style: unsupported style normal - ignoring\n",
      "Warning: gvrender_set_style: unsupported style normal - ignoring\n",
      "Warning: gvrender_set_style: unsupported style normal - ignoring\n",
      "Warning: gvrender_set_style: unsupported style normal - ignoring\n",
      "Warning: gvrender_set_style: unsupported style normal - ignoring\n",
      "Warning: gvrender_set_style: unsupported style normal - ignoring\n",
      "Warning: gvrender_set_style: unsupported style normal - ignoring\n",
      "Warning: gvrender_set_style: unsupported style normal - ignoring\n",
      "Warning: gvrender_set_style: unsupported style normal - ignoring\n",
      "Warning: gvrender_set_style: unsupported style normal - ignoring\n",
      "Warning: gvrender_set_style: unsupported style normal - ignoring\n",
      "Warning: gvrender_set_style: unsupported style normal - ignoring\n",
      "Warning: gvrender_set_style: unsupported style normal - ignoring\n",
      "Warning: gvrender_set_style: unsupported style normal - ignoring\n",
      "Warning: gvrender_set_style: unsupported style normal - ignoring\n",
      "Warning: gvrender_set_style: unsupported style normal - ignoring\n",
      "Warning: gvrender_set_style: unsupported style normal - ignoring\n",
      "Warning: gvrender_set_style: unsupported style normal - ignoring\n",
      "Warning: gvrender_set_style: unsupported style normal - ignoring\n",
      "Warning: gvrender_set_style: unsupported style normal - ignoring\n",
      "Warning: gvrender_set_style: unsupported style normal - ignoring\n",
      "Warning: gvrender_set_style: unsupported style normal - ignoring\n",
      "Warning: gvrender_set_style: unsupported style normal - ignoring\n",
      "Warning: gvrender_set_style: unsupported style normal - ignoring\n",
      "Warning: gvrender_set_style: unsupported style normal - ignoring\n",
      "Warning: gvrender_set_style: unsupported style normal - ignoring\n",
      "Warning: gvrender_set_style: unsupported style normal - ignoring\n",
      "Warning: gvrender_set_style: unsupported style normal - ignoring\n",
      "Warning: gvrender_set_style: unsupported style normal - ignoring\n",
      "Warning: gvrender_set_style: unsupported style normal - ignoring\n",
      "Warning: gvrender_set_style: unsupported style normal - ignoring\n",
      "Warning: gvrender_set_style: unsupported style normal - ignoring\n",
      "Warning: gvrender_set_style: unsupported style normal - ignoring\n",
      "Warning: gvrender_set_style: unsupported style normal - ignoring\n",
      "Warning: gvrender_set_style: unsupported style normal - ignoring\n",
      "Warning: gvrender_set_style: unsupported style normal - ignoring\n",
      "Warning: gvrender_set_style: unsupported style normal - ignoring\n",
      "Warning: gvrender_set_style: unsupported style normal - ignoring\n",
      "Warning: gvrender_set_style: unsupported style normal - ignoring\n",
      "Warning: gvrender_set_style: unsupported style normal - ignoring\n",
      "Warning: gvrender_set_style: unsupported style normal - ignoring\n",
      "Warning: gvrender_set_style: unsupported style normal - ignoring\n",
      "Warning: gvrender_set_style: unsupported style normal - ignoring\n",
      "Warning: gvrender_set_style: unsupported style normal - ignoring\n",
      "Warning: gvrender_set_style: unsupported style normal - ignoring\n",
      "Warning: gvrender_set_style: unsupported style normal - ignoring\n",
      "Warning: gvrender_set_style: unsupported style normal - ignoring\n",
      "Warning: gvrender_set_style: unsupported style normal - ignoring\n",
      "Warning: gvrender_set_style: unsupported style normal - ignoring\n",
      "Warning: gvrender_set_style: unsupported style normal - ignoring\n",
      "Warning: gvrender_set_style: unsupported style normal - ignoring\n",
      "Warning: gvrender_set_style: unsupported style normal - ignoring\n",
      "Warning: gvrender_set_style: unsupported style normal - ignoring\n",
      "Warning: gvrender_set_style: unsupported style normal - ignoring\n",
      "Warning: gvrender_set_style: unsupported style normal - ignoring\n",
      "Warning: gvrender_set_style: unsupported style normal - ignoring\n",
      "Warning: gvrender_set_style: unsupported style normal - ignoring\n",
      "Warning: gvrender_set_style: unsupported style normal - ignoring\n",
      "Warning: gvrender_set_style: unsupported style normal - ignoring\n",
      "Warning: gvrender_set_style: unsupported style normal - ignoring\n",
      "Warning: gvrender_set_style: unsupported style normal - ignoring\n",
      "Warning: gvrender_set_style: unsupported style normal - ignoring\n",
      "Warning: gvrender_set_style: unsupported style normal - ignoring\n",
      "Warning: gvrender_set_style: unsupported style normal - ignoring\n",
      "Warning: gvrender_set_style: unsupported style normal - ignoring\n",
      "Warning: gvrender_set_style: unsupported style normal - ignoring\n",
      "Warning: gvrender_set_style: unsupported style normal - ignoring\n",
      "Warning: gvrender_set_style: unsupported style normal - ignoring\n",
      "Warning: gvrender_set_style: unsupported style normal - ignoring\n",
      "Warning: gvrender_set_style: unsupported style normal - ignoring\n",
      "Warning: gvrender_set_style: unsupported style normal - ignoring\n",
      "Warning: gvrender_set_style: unsupported style normal - ignoring\n",
      "Warning: gvrender_set_style: unsupported style normal - ignoring\n",
      "Warning: gvrender_set_style: unsupported style normal - ignoring\n",
      "Warning: gvrender_set_style: unsupported style normal - ignoring\n",
      "Warning: gvrender_set_style: unsupported style normal - ignoring\n",
      "Warning: gvrender_set_style: unsupported style normal - ignoring\n",
      "Warning: gvrender_set_style: unsupported style normal - ignoring\n",
      "Warning: gvrender_set_style: unsupported style normal - ignoring\n",
      "Warning: gvrender_set_style: unsupported style normal - ignoring\n",
      "Warning: gvrender_set_style: unsupported style normal - ignoring\n",
      "Warning: gvrender_set_style: unsupported style normal - ignoring\n",
      "Warning: gvrender_set_style: unsupported style normal - ignoring\n",
      "Warning: gvrender_set_style: unsupported style normal - ignoring\n",
      "Warning: gvrender_set_style: unsupported style normal - ignoring\n",
      "Warning: gvrender_set_style: unsupported style normal - ignoring\n",
      "Warning: gvrender_set_style: unsupported style normal - ignoring\n",
      "Warning: gvrender_set_style: unsupported style normal - ignoring\n",
      "Warning: gvrender_set_style: unsupported style normal - ignoring\n",
      "Warning: gvrender_set_style: unsupported style normal - ignoring\n",
      "Warning: gvrender_set_style: unsupported style normal - ignoring\n",
      "Warning: gvrender_set_style: unsupported style normal - ignoring\n",
      "Warning: gvrender_set_style: unsupported style normal - ignoring\n",
      "Warning: gvrender_set_style: unsupported style normal - ignoring\n",
      "Warning: gvrender_set_style: unsupported style normal - ignoring\n",
      "Warning: gvrender_set_style: unsupported style normal - ignoring\n",
      "Warning: gvrender_set_style: unsupported style normal - ignoring\n",
      "Warning: gvrender_set_style: unsupported style normal - ignoring\n",
      "Warning: gvrender_set_style: unsupported style normal - ignoring\n",
      "Warning: gvrender_set_style: unsupported style normal - ignoring\n",
      "Warning: gvrender_set_style: unsupported style normal - ignoring\n",
      "Warning: gvrender_set_style: unsupported style normal - ignoring\n",
      "Warning: gvrender_set_style: unsupported style normal - ignoring\n",
      "Warning: gvrender_set_style: unsupported style normal - ignoring\n",
      "Warning: gvrender_set_style: unsupported style normal - ignoring\n",
      "Warning: gvrender_set_style: unsupported style normal - ignoring\n",
      "Warning: gvrender_set_style: unsupported style normal - ignoring\n",
      "Warning: gvrender_set_style: unsupported style normal - ignoring\n",
      "Warning: gvrender_set_style: unsupported style normal - ignoring\n",
      "Warning: gvrender_set_style: unsupported style normal - ignoring\n",
      "Warning: gvrender_set_style: unsupported style normal - ignoring\n",
      "Warning: gvrender_set_style: unsupported style normal - ignoring\n",
      "Warning: gvrender_set_style: unsupported style normal - ignoring\n",
      "Warning: gvrender_set_style: unsupported style normal - ignoring\n",
      "Warning: gvrender_set_style: unsupported style normal - ignoring\n",
      "Warning: gvrender_set_style: unsupported style normal - ignoring\n",
      "Warning: gvrender_set_style: unsupported style normal - ignoring\n",
      "Warning: gvrender_set_style: unsupported style normal - ignoring\n",
      "Warning: gvrender_set_style: unsupported style normal - ignoring\n",
      "Warning: gvrender_set_style: unsupported style normal - ignoring\n",
      "Warning: gvrender_set_style: unsupported style normal - ignoring\n",
      "Warning: gvrender_set_style: unsupported style normal - ignoring\n",
      "Warning: gvrender_set_style: unsupported style normal - ignoring\n",
      "Warning: gvrender_set_style: unsupported style normal - ignoring\n",
      "Warning: gvrender_set_style: unsupported style normal - ignoring\n",
      "Warning: gvrender_set_style: unsupported style normal - ignoring\n",
      "Warning: gvrender_set_style: unsupported style normal - ignoring\n",
      "Warning: gvrender_set_style: unsupported style normal - ignoring\n",
      "Warning: gvrender_set_style: unsupported style normal - ignoring\n",
      "Warning: gvrender_set_style: unsupported style normal - ignoring\n",
      "Warning: gvrender_set_style: unsupported style normal - ignoring\n",
      "Warning: gvrender_set_style: unsupported style normal - ignoring\n",
      "Warning: gvrender_set_style: unsupported style normal - ignoring\n",
      "Warning: gvrender_set_style: unsupported style normal - ignoring\n",
      "Warning: gvrender_set_style: unsupported style normal - ignoring\n",
      "Warning: gvrender_set_style: unsupported style normal - ignoring\n",
      "Warning: gvrender_set_style: unsupported style normal - ignoring\n",
      "Warning: gvrender_set_style: unsupported style normal - ignoring\n",
      "Warning: gvrender_set_style: unsupported style normal - ignoring\n",
      "Warning: gvrender_set_style: unsupported style normal - ignoring\n",
      "Warning: gvrender_set_style: unsupported style normal - ignoring\n",
      "Warning: gvrender_set_style: unsupported style normal - ignoring\n",
      "Warning: gvrender_set_style: unsupported style normal - ignoring\n",
      "Warning: gvrender_set_style: unsupported style normal - ignoring\n",
      "Warning: gvrender_set_style: unsupported style normal - ignoring\n",
      "Warning: gvrender_set_style: unsupported style normal - ignoring\n",
      "Warning: gvrender_set_style: unsupported style normal - ignoring\n",
      "Warning: gvrender_set_style: unsupported style normal - ignoring\n",
      "Warning: gvrender_set_style: unsupported style normal - ignoring\n",
      "Warning: gvrender_set_style: unsupported style normal - ignoring\n",
      "Warning: gvrender_set_style: unsupported style normal - ignoring\n",
      "Warning: gvrender_set_style: unsupported style normal - ignoring\n",
      "Warning: gvrender_set_style: unsupported style normal - ignoring\n",
      "Warning: gvrender_set_style: unsupported style normal - ignoring\n",
      "Warning: gvrender_set_style: unsupported style normal - ignoring\n",
      "Warning: gvrender_set_style: unsupported style normal - ignoring\n",
      "Warning: gvrender_set_style: unsupported style normal - ignoring\n",
      "Warning: gvrender_set_style: unsupported style normal - ignoring\n",
      "Warning: gvrender_set_style: unsupported style normal - ignoring\n",
      "Warning: gvrender_set_style: unsupported style normal - ignoring\n",
      "Warning: gvrender_set_style: unsupported style normal - ignoring\n",
      "Warning: gvrender_set_style: unsupported style normal - ignoring\n",
      "Warning: gvrender_set_style: unsupported style normal - ignoring\n",
      "Warning: gvrender_set_style: unsupported style normal - ignoring\n",
      "Warning: gvrender_set_style: unsupported style normal - ignoring\n",
      "Warning: gvrender_set_style: unsupported style normal - ignoring\n",
      "Warning: gvrender_set_style: unsupported style normal - ignoring\n",
      "Warning: gvrender_set_style: unsupported style normal - ignoring\n",
      "Warning: gvrender_set_style: unsupported style normal - ignoring\n",
      "Warning: gvrender_set_style: unsupported style normal - ignoring\n",
      "Warning: gvrender_set_style: unsupported style normal - ignoring\n",
      "Warning: gvrender_set_style: unsupported style normal - ignoring\n",
      "Warning: gvrender_set_style: unsupported style normal - ignoring\n",
      "Warning: gvrender_set_style: unsupported style normal - ignoring\n",
      "Warning: gvrender_set_style: unsupported style normal - ignoring\n",
      "Warning: gvrender_set_style: unsupported style normal - ignoring\n",
      "Warning: gvrender_set_style: unsupported style normal - ignoring\n",
      "Warning: gvrender_set_style: unsupported style normal - ignoring\n",
      "Warning: gvrender_set_style: unsupported style normal - ignoring\n",
      "Warning: gvrender_set_style: unsupported style normal - ignoring\n",
      "Warning: gvrender_set_style: unsupported style normal - ignoring\n",
      "Warning: gvrender_set_style: unsupported style normal - ignoring\n",
      "Warning: gvrender_set_style: unsupported style normal - ignoring\n",
      "Warning: gvrender_set_style: unsupported style normal - ignoring\n",
      "Warning: gvrender_set_style: unsupported style normal - ignoring\n",
      "Warning: gvrender_set_style: unsupported style normal - ignoring\n"
     ]
    },
    {
     "data": {
      "text/plain": [
       "'results_TAG/hapnet_msn_var_28491424_centre-pop.pdf'"
      ]
     },
     "execution_count": 28,
     "metadata": {},
     "output_type": "execute_result"
    }
   ],
   "source": [
    "loc_graph, loc_distinct_sets, loc_components = graph_haplotype_network(\n",
    "    h=loc_hap,\n",
    "    max_dist=max_dist,   \n",
    "    max_allele=max_alle, # for MJN only; default is 3\n",
    "    show_node_labels=min_fc_h,\n",
    "    distance_metric='hamming',network_method=net_meth,\n",
    "    hap_colors=loc_colpos,variant_labels=loc_snpnom,\n",
    "    return_components=True,show_singletons=False)\n",
    "\n",
    "num_components = loc_components.shape[0]\n",
    "\n",
    "# plot pdf\n",
    "loc_graph.format = 'pdf'\n",
    "loc_graph.attr(label='\\n\\n%s %s %s:%i\\n%i haps clustered into %i clusters with %s maxdist %i, from %i phased vars located +/- %i bp' % (l_nom,loc_varn,chrom,loc_vari,loc_hap.shape[1],num_components,net_meth,max_dist,loc_hap.shape[0],fbp_hap))\n",
    "fn = \"%s/hapnet_%s_var_%s_%s-pop\" % (outdir,net_meth,loc_vari,loc_varn)\n",
    "loc_graph.render(fn,cleanup=True)"
   ]
  },
  {
   "cell_type": "code",
   "execution_count": 29,
   "metadata": {},
   "outputs": [
    {
     "name": "stdout",
     "output_type": "stream",
     "text": [
      "total haps: 1530\n",
      "num haps per cluster (only clusters n>=15):\n",
      "hap_cluster\n",
      "0       59\n",
      "1       38\n",
      "2       41\n",
      "26      27\n",
      "36      42\n",
      "98     119\n",
      "99      34\n",
      "215     26\n",
      "216     26\n",
      "218     21\n",
      "221     91\n",
      "223    156\n",
      "226     24\n",
      "473     35\n",
      "476     27\n",
      "522     24\n",
      "dtype: int64\n"
     ]
    }
   ],
   "source": [
    "# map hap clusters with REF alleles to actual lists of populations\n",
    "# BEWARE: identify_components fails if max_dist > 1 in MJN\n",
    "def identify_components(h_distinct_sets, components):\n",
    "    \"\"\"This function is designed to collect all indices for original haplotypes \n",
    "    within each connected component. I.e., it finds clusters from the network.\"\"\"\n",
    "    clusters = []\n",
    "    for c in np.unique(components):\n",
    "        cluster = set()\n",
    "        for i in np.nonzero(components == c)[0]:\n",
    "            cluster |= h_distinct_sets[i]\n",
    "        clusters.append(sorted(cluster))\n",
    "    return clusters\n",
    "\n",
    "loc_components_id      = identify_components(loc_distinct_sets, loc_components) \n",
    "loc_components_id_hapi = []\n",
    "loc_components_id_clui = []\n",
    "loc_components_id_dati = pd.DataFrame()\n",
    "for n,i in enumerate(loc_components_id):\n",
    "    loc_components_id_hapi = loc_components_id_hapi + loc_components_id[n]\n",
    "    loc_components_id_clui = loc_components_id_clui + list([n]*len(loc_components_id[n]))\n",
    "\n",
    "loc_components_id_dati[\"hap_index\"]   = loc_components_id_hapi\n",
    "loc_components_id_dati[\"hap_cluster\"] = loc_components_id_clui\n",
    "loc_components_id_dati                = loc_components_id_dati.sort_values(by=\"hap_index\")\n",
    "loc_components_id_dati                = loc_components_id_dati.set_index(keys=\"hap_index\")\n",
    "loc_components_id_dati[\"pop\"]         = oc_sampleh[\"population\"].values\n",
    "loc_components_id_dati[\"hap_id\"]      = oc_sampleh[\"ox_code\"].values\n",
    "\n",
    "# report\n",
    "print(\"total haps:\",loc_hap.shape[1])\n",
    "print(\"num haps per cluster (only clusters n>=%i):\" % min_fc_h)\n",
    "print(loc_components_id_dati.groupby((\"hap_cluster\")).size()[loc_components_id_dati.groupby((\"hap_cluster\")).size()>=min_fc_h])"
   ]
  },
  {
   "cell_type": "markdown",
   "metadata": {},
   "source": [
    "Which clusters should we print? Those with frequency > 1% in the cohort (`min_fc_h` and `min_fq_h` variables, defined above):"
   ]
  },
  {
   "cell_type": "code",
   "execution_count": 30,
   "metadata": {},
   "outputs": [
    {
     "name": "stdout",
     "output_type": "stream",
     "text": [
      "centre 28491424 print clusters: [  0   1   2  26  36  98  99 215 216 218 221 223 226 473 476 522] \t\tsize of clusters:  [ 59  38  41  27  42 119  34  26  26  21  91 156  24  35  27  24]\n",
      "centre 28491424 print clusters total size: 790 / 1530\n"
     ]
    }
   ],
   "source": [
    "min_cluster_size = min_fc_h\n",
    "    \n",
    "# select clusters\n",
    "clu_list_ids     = np.unique(loc_components_id_dati[\"hap_cluster\"],return_counts=True)[0]\n",
    "clu_list_cou     = np.unique(loc_components_id_dati[\"hap_cluster\"],return_counts=True)[1]\n",
    "clu_list_ids_fil = clu_list_ids[clu_list_cou >= min_cluster_size]\n",
    "clu_list_cou_fil = clu_list_cou[clu_list_cou >= min_cluster_size]\n",
    "loc_printhap     = np.isin(loc_components_id_dati[\"hap_cluster\"].values, clu_list_ids_fil)\n",
    "\n",
    "print(loc_varn,loc_vari,\"print clusters:\",clu_list_ids_fil,\"\\t\\tsize of clusters: \",clu_list_cou_fil)\n",
    "print(loc_varn,loc_vari,\"print clusters total size:\",sum(loc_printhap),\"/\",len(loc_printhap))"
   ]
  },
  {
   "cell_type": "code",
   "execution_count": 31,
   "metadata": {
    "scrolled": false
   },
   "outputs": [
    {
     "name": "stderr",
     "output_type": "stream",
     "text": [
      "Warning: gvrender_set_style: unsupported style normal - ignoring\n",
      "Warning: gvrender_set_style: unsupported style normal - ignoring\n",
      "Warning: gvrender_set_style: unsupported style normal - ignoring\n",
      "Warning: gvrender_set_style: unsupported style normal - ignoring\n",
      "Warning: gvrender_set_style: unsupported style normal - ignoring\n",
      "Warning: gvrender_set_style: unsupported style normal - ignoring\n",
      "Warning: gvrender_set_style: unsupported style normal - ignoring\n",
      "Warning: gvrender_set_style: unsupported style normal - ignoring\n",
      "Warning: gvrender_set_style: unsupported style normal - ignoring\n",
      "Warning: gvrender_set_style: unsupported style normal - ignoring\n",
      "Warning: gvrender_set_style: unsupported style normal - ignoring\n",
      "Warning: gvrender_set_style: unsupported style normal - ignoring\n",
      "Warning: gvrender_set_style: unsupported style normal - ignoring\n",
      "Warning: gvrender_set_style: unsupported style normal - ignoring\n",
      "Warning: gvrender_set_style: unsupported style normal - ignoring\n",
      "Warning: gvrender_set_style: unsupported style normal - ignoring\n",
      "Warning: gvrender_set_style: unsupported style normal - ignoring\n",
      "Warning: gvrender_set_style: unsupported style normal - ignoring\n",
      "Warning: gvrender_set_style: unsupported style normal - ignoring\n",
      "Warning: gvrender_set_style: unsupported style normal - ignoring\n",
      "Warning: gvrender_set_style: unsupported style normal - ignoring\n",
      "Warning: gvrender_set_style: unsupported style normal - ignoring\n",
      "Warning: gvrender_set_style: unsupported style normal - ignoring\n",
      "Warning: gvrender_set_style: unsupported style normal - ignoring\n",
      "Warning: gvrender_set_style: unsupported style normal - ignoring\n",
      "Warning: gvrender_set_style: unsupported style normal - ignoring\n",
      "Warning: gvrender_set_style: unsupported style normal - ignoring\n",
      "Warning: gvrender_set_style: unsupported style normal - ignoring\n",
      "Warning: gvrender_set_style: unsupported style normal - ignoring\n",
      "Warning: gvrender_set_style: unsupported style normal - ignoring\n",
      "Warning: gvrender_set_style: unsupported style normal - ignoring\n",
      "Warning: gvrender_set_style: unsupported style normal - ignoring\n",
      "Warning: gvrender_set_style: unsupported style normal - ignoring\n",
      "Warning: gvrender_set_style: unsupported style normal - ignoring\n",
      "Warning: gvrender_set_style: unsupported style normal - ignoring\n",
      "Warning: gvrender_set_style: unsupported style normal - ignoring\n",
      "Warning: gvrender_set_style: unsupported style normal - ignoring\n",
      "Warning: gvrender_set_style: unsupported style normal - ignoring\n",
      "Warning: gvrender_set_style: unsupported style normal - ignoring\n",
      "Warning: gvrender_set_style: unsupported style normal - ignoring\n",
      "Warning: gvrender_set_style: unsupported style normal - ignoring\n",
      "Warning: gvrender_set_style: unsupported style normal - ignoring\n",
      "Warning: gvrender_set_style: unsupported style normal - ignoring\n",
      "Warning: gvrender_set_style: unsupported style normal - ignoring\n",
      "Warning: gvrender_set_style: unsupported style normal - ignoring\n",
      "Warning: gvrender_set_style: unsupported style normal - ignoring\n",
      "Warning: gvrender_set_style: unsupported style normal - ignoring\n",
      "Warning: gvrender_set_style: unsupported style normal - ignoring\n",
      "Warning: gvrender_set_style: unsupported style normal - ignoring\n",
      "Warning: gvrender_set_style: unsupported style normal - ignoring\n",
      "Warning: gvrender_set_style: unsupported style normal - ignoring\n",
      "Warning: gvrender_set_style: unsupported style normal - ignoring\n",
      "Warning: gvrender_set_style: unsupported style normal - ignoring\n",
      "Warning: gvrender_set_style: unsupported style normal - ignoring\n",
      "Warning: gvrender_set_style: unsupported style normal - ignoring\n",
      "Warning: gvrender_set_style: unsupported style normal - ignoring\n",
      "Warning: gvrender_set_style: unsupported style normal - ignoring\n",
      "Warning: gvrender_set_style: unsupported style normal - ignoring\n",
      "Warning: gvrender_set_style: unsupported style normal - ignoring\n",
      "Warning: gvrender_set_style: unsupported style normal - ignoring\n",
      "Warning: gvrender_set_style: unsupported style normal - ignoring\n",
      "Warning: gvrender_set_style: unsupported style normal - ignoring\n",
      "Warning: gvrender_set_style: unsupported style normal - ignoring\n",
      "Warning: gvrender_set_style: unsupported style normal - ignoring\n",
      "Warning: gvrender_set_style: unsupported style normal - ignoring\n",
      "Warning: gvrender_set_style: unsupported style normal - ignoring\n",
      "Warning: gvrender_set_style: unsupported style normal - ignoring\n",
      "Warning: gvrender_set_style: unsupported style normal - ignoring\n",
      "Warning: gvrender_set_style: unsupported style normal - ignoring\n",
      "Warning: gvrender_set_style: unsupported style normal - ignoring\n",
      "Warning: gvrender_set_style: unsupported style normal - ignoring\n",
      "Warning: gvrender_set_style: unsupported style normal - ignoring\n",
      "Warning: gvrender_set_style: unsupported style normal - ignoring\n",
      "Warning: gvrender_set_style: unsupported style normal - ignoring\n",
      "Warning: gvrender_set_style: unsupported style normal - ignoring\n",
      "Warning: gvrender_set_style: unsupported style normal - ignoring\n",
      "Warning: gvrender_set_style: unsupported style normal - ignoring\n",
      "Warning: gvrender_set_style: unsupported style normal - ignoring\n",
      "Warning: gvrender_set_style: unsupported style normal - ignoring\n",
      "Warning: gvrender_set_style: unsupported style normal - ignoring\n",
      "Warning: gvrender_set_style: unsupported style normal - ignoring\n",
      "Warning: gvrender_set_style: unsupported style normal - ignoring\n",
      "Warning: gvrender_set_style: unsupported style normal - ignoring\n",
      "Warning: gvrender_set_style: unsupported style normal - ignoring\n",
      "Warning: gvrender_set_style: unsupported style normal - ignoring\n",
      "Warning: gvrender_set_style: unsupported style normal - ignoring\n",
      "Warning: gvrender_set_style: unsupported style normal - ignoring\n",
      "Warning: gvrender_set_style: unsupported style normal - ignoring\n",
      "Warning: gvrender_set_style: unsupported style normal - ignoring\n",
      "Warning: gvrender_set_style: unsupported style normal - ignoring\n",
      "Warning: gvrender_set_style: unsupported style normal - ignoring\n",
      "Warning: gvrender_set_style: unsupported style normal - ignoring\n",
      "Warning: gvrender_set_style: unsupported style normal - ignoring\n",
      "Warning: gvrender_set_style: unsupported style normal - ignoring\n",
      "Warning: gvrender_set_style: unsupported style normal - ignoring\n",
      "Warning: gvrender_set_style: unsupported style normal - ignoring\n",
      "Warning: gvrender_set_style: unsupported style normal - ignoring\n",
      "Warning: gvrender_set_style: unsupported style normal - ignoring\n",
      "Warning: gvrender_set_style: unsupported style normal - ignoring\n",
      "Warning: gvrender_set_style: unsupported style normal - ignoring\n",
      "Warning: gvrender_set_style: unsupported style normal - ignoring\n",
      "Warning: gvrender_set_style: unsupported style normal - ignoring\n",
      "Warning: gvrender_set_style: unsupported style normal - ignoring\n",
      "Warning: gvrender_set_style: unsupported style normal - ignoring\n",
      "Warning: gvrender_set_style: unsupported style normal - ignoring\n",
      "Warning: gvrender_set_style: unsupported style normal - ignoring\n",
      "Warning: gvrender_set_style: unsupported style normal - ignoring\n",
      "Warning: gvrender_set_style: unsupported style normal - ignoring\n",
      "Warning: gvrender_set_style: unsupported style normal - ignoring\n",
      "Warning: gvrender_set_style: unsupported style normal - ignoring\n",
      "Warning: gvrender_set_style: unsupported style normal - ignoring\n",
      "Warning: gvrender_set_style: unsupported style normal - ignoring\n",
      "Warning: gvrender_set_style: unsupported style normal - ignoring\n",
      "Warning: gvrender_set_style: unsupported style normal - ignoring\n",
      "Warning: gvrender_set_style: unsupported style normal - ignoring\n",
      "Warning: gvrender_set_style: unsupported style normal - ignoring\n",
      "Warning: gvrender_set_style: unsupported style normal - ignoring\n",
      "Warning: gvrender_set_style: unsupported style normal - ignoring\n",
      "Warning: gvrender_set_style: unsupported style normal - ignoring\n",
      "Warning: gvrender_set_style: unsupported style normal - ignoring\n",
      "Warning: gvrender_set_style: unsupported style normal - ignoring\n",
      "Warning: gvrender_set_style: unsupported style normal - ignoring\n",
      "Warning: gvrender_set_style: unsupported style normal - ignoring\n",
      "Warning: gvrender_set_style: unsupported style normal - ignoring\n",
      "Warning: gvrender_set_style: unsupported style normal - ignoring\n",
      "Warning: gvrender_set_style: unsupported style normal - ignoring\n",
      "Warning: gvrender_set_style: unsupported style normal - ignoring\n",
      "Warning: gvrender_set_style: unsupported style normal - ignoring\n",
      "Warning: gvrender_set_style: unsupported style normal - ignoring\n",
      "Warning: gvrender_set_style: unsupported style normal - ignoring\n",
      "Warning: gvrender_set_style: unsupported style normal - ignoring\n",
      "Warning: gvrender_set_style: unsupported style normal - ignoring\n",
      "Warning: gvrender_set_style: unsupported style normal - ignoring\n",
      "Warning: gvrender_set_style: unsupported style normal - ignoring\n",
      "Warning: gvrender_set_style: unsupported style normal - ignoring\n",
      "Warning: gvrender_set_style: unsupported style normal - ignoring\n",
      "Warning: gvrender_set_style: unsupported style normal - ignoring\n",
      "Warning: gvrender_set_style: unsupported style normal - ignoring\n",
      "Warning: gvrender_set_style: unsupported style normal - ignoring\n",
      "Warning: gvrender_set_style: unsupported style normal - ignoring\n",
      "Warning: gvrender_set_style: unsupported style normal - ignoring\n",
      "Warning: gvrender_set_style: unsupported style normal - ignoring\n",
      "Warning: gvrender_set_style: unsupported style normal - ignoring\n",
      "Warning: gvrender_set_style: unsupported style normal - ignoring\n",
      "Warning: gvrender_set_style: unsupported style normal - ignoring\n",
      "Warning: gvrender_set_style: unsupported style normal - ignoring\n",
      "Warning: gvrender_set_style: unsupported style normal - ignoring\n",
      "Warning: gvrender_set_style: unsupported style normal - ignoring\n",
      "Warning: gvrender_set_style: unsupported style normal - ignoring\n",
      "Warning: gvrender_set_style: unsupported style normal - ignoring\n",
      "Warning: gvrender_set_style: unsupported style normal - ignoring\n",
      "Warning: gvrender_set_style: unsupported style normal - ignoring\n",
      "Warning: gvrender_set_style: unsupported style normal - ignoring\n",
      "Warning: gvrender_set_style: unsupported style normal - ignoring\n",
      "Warning: gvrender_set_style: unsupported style normal - ignoring\n",
      "Warning: gvrender_set_style: unsupported style normal - ignoring\n",
      "Warning: gvrender_set_style: unsupported style normal - ignoring\n",
      "Warning: gvrender_set_style: unsupported style normal - ignoring\n",
      "Warning: gvrender_set_style: unsupported style normal - ignoring\n",
      "Warning: gvrender_set_style: unsupported style normal - ignoring\n",
      "Warning: gvrender_set_style: unsupported style normal - ignoring\n",
      "Warning: gvrender_set_style: unsupported style normal - ignoring\n",
      "Warning: gvrender_set_style: unsupported style normal - ignoring\n",
      "Warning: gvrender_set_style: unsupported style normal - ignoring\n",
      "Warning: gvrender_set_style: unsupported style normal - ignoring\n",
      "Warning: gvrender_set_style: unsupported style normal - ignoring\n",
      "Warning: gvrender_set_style: unsupported style normal - ignoring\n",
      "Warning: gvrender_set_style: unsupported style normal - ignoring\n",
      "Warning: gvrender_set_style: unsupported style normal - ignoring\n",
      "Warning: gvrender_set_style: unsupported style normal - ignoring\n",
      "Warning: gvrender_set_style: unsupported style normal - ignoring\n",
      "Warning: gvrender_set_style: unsupported style normal - ignoring\n",
      "Warning: gvrender_set_style: unsupported style normal - ignoring\n",
      "Warning: gvrender_set_style: unsupported style normal - ignoring\n",
      "Warning: gvrender_set_style: unsupported style normal - ignoring\n",
      "Warning: gvrender_set_style: unsupported style normal - ignoring\n",
      "Warning: gvrender_set_style: unsupported style normal - ignoring\n",
      "Warning: gvrender_set_style: unsupported style normal - ignoring\n",
      "Warning: gvrender_set_style: unsupported style normal - ignoring\n",
      "Warning: gvrender_set_style: unsupported style normal - ignoring\n",
      "Warning: gvrender_set_style: unsupported style normal - ignoring\n",
      "Warning: gvrender_set_style: unsupported style normal - ignoring\n",
      "Warning: gvrender_set_style: unsupported style normal - ignoring\n",
      "Warning: gvrender_set_style: unsupported style normal - ignoring\n",
      "Warning: gvrender_set_style: unsupported style normal - ignoring\n",
      "Warning: gvrender_set_style: unsupported style normal - ignoring\n",
      "Warning: gvrender_set_style: unsupported style normal - ignoring\n",
      "Warning: gvrender_set_style: unsupported style normal - ignoring\n",
      "Warning: gvrender_set_style: unsupported style normal - ignoring\n",
      "Warning: gvrender_set_style: unsupported style normal - ignoring\n",
      "Warning: gvrender_set_style: unsupported style normal - ignoring\n",
      "Warning: gvrender_set_style: unsupported style normal - ignoring\n",
      "Warning: gvrender_set_style: unsupported style normal - ignoring\n",
      "Warning: gvrender_set_style: unsupported style normal - ignoring\n",
      "Warning: gvrender_set_style: unsupported style normal - ignoring\n",
      "Warning: gvrender_set_style: unsupported style normal - ignoring\n",
      "Warning: gvrender_set_style: unsupported style normal - ignoring\n",
      "Warning: gvrender_set_style: unsupported style normal - ignoring\n",
      "Warning: gvrender_set_style: unsupported style normal - ignoring\n",
      "Warning: gvrender_set_style: unsupported style normal - ignoring\n",
      "Warning: gvrender_set_style: unsupported style normal - ignoring\n",
      "Warning: gvrender_set_style: unsupported style normal - ignoring\n",
      "Warning: gvrender_set_style: unsupported style normal - ignoring\n",
      "Warning: gvrender_set_style: unsupported style normal - ignoring\n",
      "Warning: gvrender_set_style: unsupported style normal - ignoring\n",
      "Warning: gvrender_set_style: unsupported style normal - ignoring\n",
      "Warning: gvrender_set_style: unsupported style normal - ignoring\n",
      "Warning: gvrender_set_style: unsupported style normal - ignoring\n",
      "Warning: gvrender_set_style: unsupported style normal - ignoring\n",
      "Warning: gvrender_set_style: unsupported style normal - ignoring\n",
      "Warning: gvrender_set_style: unsupported style normal - ignoring\n",
      "Warning: gvrender_set_style: unsupported style normal - ignoring\n",
      "Warning: gvrender_set_style: unsupported style normal - ignoring\n",
      "Warning: gvrender_set_style: unsupported style normal - ignoring\n",
      "Warning: gvrender_set_style: unsupported style normal - ignoring\n",
      "Warning: gvrender_set_style: unsupported style normal - ignoring\n",
      "Warning: gvrender_set_style: unsupported style normal - ignoring\n",
      "Warning: gvrender_set_style: unsupported style normal - ignoring\n",
      "Warning: gvrender_set_style: unsupported style normal - ignoring\n",
      "Warning: gvrender_set_style: unsupported style normal - ignoring\n",
      "Warning: gvrender_set_style: unsupported style normal - ignoring\n",
      "Warning: gvrender_set_style: unsupported style normal - ignoring\n",
      "Warning: gvrender_set_style: unsupported style normal - ignoring\n",
      "Warning: gvrender_set_style: unsupported style normal - ignoring\n",
      "Warning: gvrender_set_style: unsupported style normal - ignoring\n",
      "Warning: gvrender_set_style: unsupported style normal - ignoring\n",
      "Warning: gvrender_set_style: unsupported style normal - ignoring\n",
      "Warning: gvrender_set_style: unsupported style normal - ignoring\n",
      "Warning: gvrender_set_style: unsupported style normal - ignoring\n",
      "Warning: gvrender_set_style: unsupported style normal - ignoring\n",
      "Warning: gvrender_set_style: unsupported style normal - ignoring\n",
      "Warning: gvrender_set_style: unsupported style normal - ignoring\n",
      "Warning: gvrender_set_style: unsupported style normal - ignoring\n",
      "Warning: gvrender_set_style: unsupported style normal - ignoring\n",
      "Warning: gvrender_set_style: unsupported style normal - ignoring\n",
      "Warning: gvrender_set_style: unsupported style normal - ignoring\n",
      "Warning: gvrender_set_style: unsupported style normal - ignoring\n",
      "Warning: gvrender_set_style: unsupported style normal - ignoring\n",
      "Warning: gvrender_set_style: unsupported style normal - ignoring\n",
      "Warning: gvrender_set_style: unsupported style normal - ignoring\n",
      "Warning: gvrender_set_style: unsupported style normal - ignoring\n"
     ]
    },
    {
     "data": {
      "text/plain": [
       "'results_TAG/hapnet_msn_var_28491424_centre-pop_minfq.pdf'"
      ]
     },
     "execution_count": 31,
     "metadata": {},
     "output_type": "execute_result"
    }
   ],
   "source": [
    "loc_graph, loc_distinct_sets, loc_components = graph_haplotype_network(\n",
    "    h=loc_hap.subset(sel1=loc_printhap),\n",
    "    max_dist=max_dist,   \n",
    "    max_allele=max_alle, # for MJN only; default is 3\n",
    "    show_node_labels=100,\n",
    "    distance_metric='hamming',network_method=net_meth,\n",
    "    hap_colors=loc_colpos[loc_printhap],variant_labels=loc_snpnom,\n",
    "    return_components=True,show_singletons=False)\n",
    "\n",
    "num_components = loc_components.shape[0]\n",
    "\n",
    "# plot pdf\n",
    "loc_graph.format = 'pdf'\n",
    "loc_graph.attr(label='\\n\\n%s %s %s:%i\\n%i haps clustered into %i clusters with %s maxdist %i, from %i phased vars located +/- %i bp' % (l_nom,loc_varn,chrom,loc_vari,loc_hap.shape[1],num_components,net_meth,max_dist,loc_hap.shape[0],fbp_hap))\n",
    "fn = \"%s/hapnet_%s_var_%s_%s-pop_minfq\" % (outdir,net_meth,loc_vari,loc_varn)\n",
    "loc_graph.render(fn,cleanup=True)"
   ]
  },
  {
   "cell_type": "markdown",
   "metadata": {},
   "source": [
    "Plot haplotype networks colored by genotype in CYP6P4-I236M:\n",
    "\n",
    "* 236I (wt) is gray (0)\n",
    "* 236M is light blue (1)\n",
    "* missing genotype is orange (-1)"
   ]
  },
  {
   "cell_type": "code",
   "execution_count": 32,
   "metadata": {},
   "outputs": [],
   "source": [
    "loc_components_id_dati[\"CYP6P4_nonsyn\"] = loc_gty_T"
   ]
  },
  {
   "cell_type": "code",
   "execution_count": 33,
   "metadata": {
    "scrolled": true
   },
   "outputs": [
    {
     "name": "stderr",
     "output_type": "stream",
     "text": [
      "Warning: gvrender_set_style: unsupported style normal - ignoring\n",
      "Warning: gvrender_set_style: unsupported style normal - ignoring\n",
      "Warning: gvrender_set_style: unsupported style normal - ignoring\n",
      "Warning: gvrender_set_style: unsupported style normal - ignoring\n",
      "Warning: gvrender_set_style: unsupported style normal - ignoring\n",
      "Warning: gvrender_set_style: unsupported style normal - ignoring\n",
      "Warning: gvrender_set_style: unsupported style normal - ignoring\n",
      "Warning: gvrender_set_style: unsupported style normal - ignoring\n",
      "Warning: gvrender_set_style: unsupported style normal - ignoring\n",
      "Warning: gvrender_set_style: unsupported style normal - ignoring\n",
      "Warning: gvrender_set_style: unsupported style normal - ignoring\n",
      "Warning: gvrender_set_style: unsupported style normal - ignoring\n",
      "Warning: gvrender_set_style: unsupported style normal - ignoring\n",
      "Warning: gvrender_set_style: unsupported style normal - ignoring\n",
      "Warning: gvrender_set_style: unsupported style normal - ignoring\n",
      "Warning: gvrender_set_style: unsupported style normal - ignoring\n",
      "Warning: gvrender_set_style: unsupported style normal - ignoring\n",
      "Warning: gvrender_set_style: unsupported style normal - ignoring\n",
      "Warning: gvrender_set_style: unsupported style normal - ignoring\n",
      "Warning: gvrender_set_style: unsupported style normal - ignoring\n",
      "Warning: gvrender_set_style: unsupported style normal - ignoring\n",
      "Warning: gvrender_set_style: unsupported style normal - ignoring\n",
      "Warning: gvrender_set_style: unsupported style normal - ignoring\n",
      "Warning: gvrender_set_style: unsupported style normal - ignoring\n",
      "Warning: gvrender_set_style: unsupported style normal - ignoring\n",
      "Warning: gvrender_set_style: unsupported style normal - ignoring\n",
      "Warning: gvrender_set_style: unsupported style normal - ignoring\n",
      "Warning: gvrender_set_style: unsupported style normal - ignoring\n",
      "Warning: gvrender_set_style: unsupported style normal - ignoring\n",
      "Warning: gvrender_set_style: unsupported style normal - ignoring\n",
      "Warning: gvrender_set_style: unsupported style normal - ignoring\n",
      "Warning: gvrender_set_style: unsupported style normal - ignoring\n",
      "Warning: gvrender_set_style: unsupported style normal - ignoring\n",
      "Warning: gvrender_set_style: unsupported style normal - ignoring\n",
      "Warning: gvrender_set_style: unsupported style normal - ignoring\n",
      "Warning: gvrender_set_style: unsupported style normal - ignoring\n",
      "Warning: gvrender_set_style: unsupported style normal - ignoring\n",
      "Warning: gvrender_set_style: unsupported style normal - ignoring\n",
      "Warning: gvrender_set_style: unsupported style normal - ignoring\n",
      "Warning: gvrender_set_style: unsupported style normal - ignoring\n",
      "Warning: gvrender_set_style: unsupported style normal - ignoring\n",
      "Warning: gvrender_set_style: unsupported style normal - ignoring\n",
      "Warning: gvrender_set_style: unsupported style normal - ignoring\n",
      "Warning: gvrender_set_style: unsupported style normal - ignoring\n",
      "Warning: gvrender_set_style: unsupported style normal - ignoring\n",
      "Warning: gvrender_set_style: unsupported style normal - ignoring\n",
      "Warning: gvrender_set_style: unsupported style normal - ignoring\n",
      "Warning: gvrender_set_style: unsupported style normal - ignoring\n",
      "Warning: gvrender_set_style: unsupported style normal - ignoring\n",
      "Warning: gvrender_set_style: unsupported style normal - ignoring\n",
      "Warning: gvrender_set_style: unsupported style normal - ignoring\n",
      "Warning: gvrender_set_style: unsupported style normal - ignoring\n",
      "Warning: gvrender_set_style: unsupported style normal - ignoring\n",
      "Warning: gvrender_set_style: unsupported style normal - ignoring\n",
      "Warning: gvrender_set_style: unsupported style normal - ignoring\n",
      "Warning: gvrender_set_style: unsupported style normal - ignoring\n",
      "Warning: gvrender_set_style: unsupported style normal - ignoring\n",
      "Warning: gvrender_set_style: unsupported style normal - ignoring\n",
      "Warning: gvrender_set_style: unsupported style normal - ignoring\n",
      "Warning: gvrender_set_style: unsupported style normal - ignoring\n",
      "Warning: gvrender_set_style: unsupported style normal - ignoring\n",
      "Warning: gvrender_set_style: unsupported style normal - ignoring\n",
      "Warning: gvrender_set_style: unsupported style normal - ignoring\n",
      "Warning: gvrender_set_style: unsupported style normal - ignoring\n",
      "Warning: gvrender_set_style: unsupported style normal - ignoring\n",
      "Warning: gvrender_set_style: unsupported style normal - ignoring\n",
      "Warning: gvrender_set_style: unsupported style normal - ignoring\n",
      "Warning: gvrender_set_style: unsupported style normal - ignoring\n",
      "Warning: gvrender_set_style: unsupported style normal - ignoring\n",
      "Warning: gvrender_set_style: unsupported style normal - ignoring\n",
      "Warning: gvrender_set_style: unsupported style normal - ignoring\n",
      "Warning: gvrender_set_style: unsupported style normal - ignoring\n",
      "Warning: gvrender_set_style: unsupported style normal - ignoring\n",
      "Warning: gvrender_set_style: unsupported style normal - ignoring\n",
      "Warning: gvrender_set_style: unsupported style normal - ignoring\n",
      "Warning: gvrender_set_style: unsupported style normal - ignoring\n",
      "Warning: gvrender_set_style: unsupported style normal - ignoring\n",
      "Warning: gvrender_set_style: unsupported style normal - ignoring\n",
      "Warning: gvrender_set_style: unsupported style normal - ignoring\n",
      "Warning: gvrender_set_style: unsupported style normal - ignoring\n",
      "Warning: gvrender_set_style: unsupported style normal - ignoring\n",
      "Warning: gvrender_set_style: unsupported style normal - ignoring\n",
      "Warning: gvrender_set_style: unsupported style normal - ignoring\n",
      "Warning: gvrender_set_style: unsupported style normal - ignoring\n",
      "Warning: gvrender_set_style: unsupported style normal - ignoring\n",
      "Warning: gvrender_set_style: unsupported style normal - ignoring\n",
      "Warning: gvrender_set_style: unsupported style normal - ignoring\n",
      "Warning: gvrender_set_style: unsupported style normal - ignoring\n",
      "Warning: gvrender_set_style: unsupported style normal - ignoring\n",
      "Warning: gvrender_set_style: unsupported style normal - ignoring\n",
      "Warning: gvrender_set_style: unsupported style normal - ignoring\n",
      "Warning: gvrender_set_style: unsupported style normal - ignoring\n",
      "Warning: gvrender_set_style: unsupported style normal - ignoring\n",
      "Warning: gvrender_set_style: unsupported style normal - ignoring\n",
      "Warning: gvrender_set_style: unsupported style normal - ignoring\n",
      "Warning: gvrender_set_style: unsupported style normal - ignoring\n",
      "Warning: gvrender_set_style: unsupported style normal - ignoring\n",
      "Warning: gvrender_set_style: unsupported style normal - ignoring\n",
      "Warning: gvrender_set_style: unsupported style normal - ignoring\n",
      "Warning: gvrender_set_style: unsupported style normal - ignoring\n",
      "Warning: gvrender_set_style: unsupported style normal - ignoring\n",
      "Warning: gvrender_set_style: unsupported style normal - ignoring\n",
      "Warning: gvrender_set_style: unsupported style normal - ignoring\n",
      "Warning: gvrender_set_style: unsupported style normal - ignoring\n",
      "Warning: gvrender_set_style: unsupported style normal - ignoring\n",
      "Warning: gvrender_set_style: unsupported style normal - ignoring\n",
      "Warning: gvrender_set_style: unsupported style normal - ignoring\n",
      "Warning: gvrender_set_style: unsupported style normal - ignoring\n",
      "Warning: gvrender_set_style: unsupported style normal - ignoring\n",
      "Warning: gvrender_set_style: unsupported style normal - ignoring\n",
      "Warning: gvrender_set_style: unsupported style normal - ignoring\n",
      "Warning: gvrender_set_style: unsupported style normal - ignoring\n",
      "Warning: gvrender_set_style: unsupported style normal - ignoring\n",
      "Warning: gvrender_set_style: unsupported style normal - ignoring\n",
      "Warning: gvrender_set_style: unsupported style normal - ignoring\n",
      "Warning: gvrender_set_style: unsupported style normal - ignoring\n",
      "Warning: gvrender_set_style: unsupported style normal - ignoring\n",
      "Warning: gvrender_set_style: unsupported style normal - ignoring\n",
      "Warning: gvrender_set_style: unsupported style normal - ignoring\n",
      "Warning: gvrender_set_style: unsupported style normal - ignoring\n",
      "Warning: gvrender_set_style: unsupported style normal - ignoring\n",
      "Warning: gvrender_set_style: unsupported style normal - ignoring\n",
      "Warning: gvrender_set_style: unsupported style normal - ignoring\n",
      "Warning: gvrender_set_style: unsupported style normal - ignoring\n",
      "Warning: gvrender_set_style: unsupported style normal - ignoring\n",
      "Warning: gvrender_set_style: unsupported style normal - ignoring\n",
      "Warning: gvrender_set_style: unsupported style normal - ignoring\n",
      "Warning: gvrender_set_style: unsupported style normal - ignoring\n",
      "Warning: gvrender_set_style: unsupported style normal - ignoring\n",
      "Warning: gvrender_set_style: unsupported style normal - ignoring\n",
      "Warning: gvrender_set_style: unsupported style normal - ignoring\n",
      "Warning: gvrender_set_style: unsupported style normal - ignoring\n",
      "Warning: gvrender_set_style: unsupported style normal - ignoring\n",
      "Warning: gvrender_set_style: unsupported style normal - ignoring\n",
      "Warning: gvrender_set_style: unsupported style normal - ignoring\n",
      "Warning: gvrender_set_style: unsupported style normal - ignoring\n",
      "Warning: gvrender_set_style: unsupported style normal - ignoring\n",
      "Warning: gvrender_set_style: unsupported style normal - ignoring\n",
      "Warning: gvrender_set_style: unsupported style normal - ignoring\n",
      "Warning: gvrender_set_style: unsupported style normal - ignoring\n",
      "Warning: gvrender_set_style: unsupported style normal - ignoring\n",
      "Warning: gvrender_set_style: unsupported style normal - ignoring\n",
      "Warning: gvrender_set_style: unsupported style normal - ignoring\n",
      "Warning: gvrender_set_style: unsupported style normal - ignoring\n",
      "Warning: gvrender_set_style: unsupported style normal - ignoring\n",
      "Warning: gvrender_set_style: unsupported style normal - ignoring\n",
      "Warning: gvrender_set_style: unsupported style normal - ignoring\n",
      "Warning: gvrender_set_style: unsupported style normal - ignoring\n",
      "Warning: gvrender_set_style: unsupported style normal - ignoring\n",
      "Warning: gvrender_set_style: unsupported style normal - ignoring\n",
      "Warning: gvrender_set_style: unsupported style normal - ignoring\n",
      "Warning: gvrender_set_style: unsupported style normal - ignoring\n",
      "Warning: gvrender_set_style: unsupported style normal - ignoring\n",
      "Warning: gvrender_set_style: unsupported style normal - ignoring\n",
      "Warning: gvrender_set_style: unsupported style normal - ignoring\n",
      "Warning: gvrender_set_style: unsupported style normal - ignoring\n",
      "Warning: gvrender_set_style: unsupported style normal - ignoring\n",
      "Warning: gvrender_set_style: unsupported style normal - ignoring\n",
      "Warning: gvrender_set_style: unsupported style normal - ignoring\n",
      "Warning: gvrender_set_style: unsupported style normal - ignoring\n",
      "Warning: gvrender_set_style: unsupported style normal - ignoring\n",
      "Warning: gvrender_set_style: unsupported style normal - ignoring\n",
      "Warning: gvrender_set_style: unsupported style normal - ignoring\n",
      "Warning: gvrender_set_style: unsupported style normal - ignoring\n",
      "Warning: gvrender_set_style: unsupported style normal - ignoring\n",
      "Warning: gvrender_set_style: unsupported style normal - ignoring\n",
      "Warning: gvrender_set_style: unsupported style normal - ignoring\n",
      "Warning: gvrender_set_style: unsupported style normal - ignoring\n",
      "Warning: gvrender_set_style: unsupported style normal - ignoring\n",
      "Warning: gvrender_set_style: unsupported style normal - ignoring\n",
      "Warning: gvrender_set_style: unsupported style normal - ignoring\n",
      "Warning: gvrender_set_style: unsupported style normal - ignoring\n",
      "Warning: gvrender_set_style: unsupported style normal - ignoring\n",
      "Warning: gvrender_set_style: unsupported style normal - ignoring\n",
      "Warning: gvrender_set_style: unsupported style normal - ignoring\n",
      "Warning: gvrender_set_style: unsupported style normal - ignoring\n",
      "Warning: gvrender_set_style: unsupported style normal - ignoring\n",
      "Warning: gvrender_set_style: unsupported style normal - ignoring\n",
      "Warning: gvrender_set_style: unsupported style normal - ignoring\n",
      "Warning: gvrender_set_style: unsupported style normal - ignoring\n",
      "Warning: gvrender_set_style: unsupported style normal - ignoring\n",
      "Warning: gvrender_set_style: unsupported style normal - ignoring\n",
      "Warning: gvrender_set_style: unsupported style normal - ignoring\n",
      "Warning: gvrender_set_style: unsupported style normal - ignoring\n",
      "Warning: gvrender_set_style: unsupported style normal - ignoring\n",
      "Warning: gvrender_set_style: unsupported style normal - ignoring\n",
      "Warning: gvrender_set_style: unsupported style normal - ignoring\n",
      "Warning: gvrender_set_style: unsupported style normal - ignoring\n",
      "Warning: gvrender_set_style: unsupported style normal - ignoring\n",
      "Warning: gvrender_set_style: unsupported style normal - ignoring\n",
      "Warning: gvrender_set_style: unsupported style normal - ignoring\n",
      "Warning: gvrender_set_style: unsupported style normal - ignoring\n",
      "Warning: gvrender_set_style: unsupported style normal - ignoring\n",
      "Warning: gvrender_set_style: unsupported style normal - ignoring\n",
      "Warning: gvrender_set_style: unsupported style normal - ignoring\n",
      "Warning: gvrender_set_style: unsupported style normal - ignoring\n",
      "Warning: gvrender_set_style: unsupported style normal - ignoring\n",
      "Warning: gvrender_set_style: unsupported style normal - ignoring\n",
      "Warning: gvrender_set_style: unsupported style normal - ignoring\n",
      "Warning: gvrender_set_style: unsupported style normal - ignoring\n",
      "Warning: gvrender_set_style: unsupported style normal - ignoring\n",
      "Warning: gvrender_set_style: unsupported style normal - ignoring\n",
      "Warning: gvrender_set_style: unsupported style normal - ignoring\n",
      "Warning: gvrender_set_style: unsupported style normal - ignoring\n",
      "Warning: gvrender_set_style: unsupported style normal - ignoring\n",
      "Warning: gvrender_set_style: unsupported style normal - ignoring\n",
      "Warning: gvrender_set_style: unsupported style normal - ignoring\n",
      "Warning: gvrender_set_style: unsupported style normal - ignoring\n",
      "Warning: gvrender_set_style: unsupported style normal - ignoring\n",
      "Warning: gvrender_set_style: unsupported style normal - ignoring\n",
      "Warning: gvrender_set_style: unsupported style normal - ignoring\n",
      "Warning: gvrender_set_style: unsupported style normal - ignoring\n",
      "Warning: gvrender_set_style: unsupported style normal - ignoring\n",
      "Warning: gvrender_set_style: unsupported style normal - ignoring\n",
      "Warning: gvrender_set_style: unsupported style normal - ignoring\n",
      "Warning: gvrender_set_style: unsupported style normal - ignoring\n",
      "Warning: gvrender_set_style: unsupported style normal - ignoring\n",
      "Warning: gvrender_set_style: unsupported style normal - ignoring\n",
      "Warning: gvrender_set_style: unsupported style normal - ignoring\n",
      "Warning: gvrender_set_style: unsupported style normal - ignoring\n",
      "Warning: gvrender_set_style: unsupported style normal - ignoring\n",
      "Warning: gvrender_set_style: unsupported style normal - ignoring\n",
      "Warning: gvrender_set_style: unsupported style normal - ignoring\n",
      "Warning: gvrender_set_style: unsupported style normal - ignoring\n",
      "Warning: gvrender_set_style: unsupported style normal - ignoring\n",
      "Warning: gvrender_set_style: unsupported style normal - ignoring\n",
      "Warning: gvrender_set_style: unsupported style normal - ignoring\n",
      "Warning: gvrender_set_style: unsupported style normal - ignoring\n",
      "Warning: gvrender_set_style: unsupported style normal - ignoring\n",
      "Warning: gvrender_set_style: unsupported style normal - ignoring\n",
      "Warning: gvrender_set_style: unsupported style normal - ignoring\n",
      "Warning: gvrender_set_style: unsupported style normal - ignoring\n",
      "Warning: gvrender_set_style: unsupported style normal - ignoring\n",
      "Warning: gvrender_set_style: unsupported style normal - ignoring\n",
      "Warning: gvrender_set_style: unsupported style normal - ignoring\n",
      "Warning: gvrender_set_style: unsupported style normal - ignoring\n",
      "Warning: gvrender_set_style: unsupported style normal - ignoring\n",
      "Warning: gvrender_set_style: unsupported style normal - ignoring\n",
      "Warning: gvrender_set_style: unsupported style normal - ignoring\n",
      "Warning: gvrender_set_style: unsupported style normal - ignoring\n",
      "Warning: gvrender_set_style: unsupported style normal - ignoring\n"
     ]
    },
    {
     "data": {
      "text/plain": [
       "'results_TAG/hapnet_msn_var_28491424_centre-gty_minfq.pdf'"
      ]
     },
     "execution_count": 33,
     "metadata": {},
     "output_type": "execute_result"
    }
   ],
   "source": [
    "loc_graph, loc_distinct_sets, loc_components = graph_haplotype_network(\n",
    "    h=loc_hap.subset(sel1=loc_printhap),\n",
    "    max_dist=max_dist,   \n",
    "    max_allele=max_alle, # for MJN only; default is 3\n",
    "    show_node_labels=100,\n",
    "    distance_metric='hamming',network_method=net_meth,\n",
    "    hap_colors=loc_colvar[loc_printhap],variant_labels=loc_snpnom,\n",
    "    return_components=True,show_singletons=False)\n",
    "\n",
    "num_components = loc_components.shape[0]\n",
    "\n",
    "# plot pdf\n",
    "loc_graph.format = 'pdf'\n",
    "loc_graph.attr(label='\\n\\n%s %s %s:%i\\n%i haps clustered into %i clusters with %s maxdist %i, from %i phased vars located +/- %i bp' % (l_nom,loc_varn,chrom,loc_vari,loc_hap.shape[1],num_components,net_meth,max_dist,loc_hap.shape[0],fbp_hap))\n",
    "fn = \"%s/hapnet_%s_var_%s_%s-gty_minfq\" % (outdir,net_meth,loc_vari,loc_varn)\n",
    "loc_graph.render(fn,cleanup=True)"
   ]
  },
  {
   "cell_type": "code",
   "execution_count": 34,
   "metadata": {},
   "outputs": [
    {
     "data": {
      "image/png": "[encoded data removed]",
      "text/plain": [
       "<Figure size 72x72 with 1 Axes>"
      ]
     },
     "metadata": {
      "needs_background": "light"
     },
     "output_type": "display_data"
    }
   ],
   "source": [
    "# plot color legend\n",
    "# WARNING: colors might be slightly different because matplotlib and graphviz parse them differently\n",
    "pdf = PdfPages(\"%s/hapnet_legend.pdf\" % (outdir))\n",
    "fig,ax = plt.subplots(figsize=(1,1))\n",
    "ax.set_axis_off()\n",
    "custom_lines = [mpatches.Patch(facecolor=pos_colors[coli]) for coli in pos_colors.keys()]\n",
    "plt.legend(labels=pos_colors.keys(),handles=custom_lines)\n",
    "pdf.savefig(fig,bbox_inches='tight')\n",
    "pdf.close()"
   ]
  },
  {
   "cell_type": "markdown",
   "metadata": {},
   "source": [
    "Now, output table with clusters, for posterity:"
   ]
  },
  {
   "cell_type": "code",
   "execution_count": 35,
   "metadata": {},
   "outputs": [],
   "source": [
    "loc_components_id_dati.to_csv(\"%s/hapnet_result.csv\" % (outdir),sep=\"\\t\",index=False)"
   ]
  },
  {
   "cell_type": "markdown",
   "metadata": {},
   "source": [
    "### Distribution of populations per haplotype\n",
    "\n",
    "Barplots:"
   ]
  },
  {
   "cell_type": "code",
   "execution_count": 36,
   "metadata": {},
   "outputs": [],
   "source": [
    "def annotate_barplot(ax,color=\"k\", labformat = \"{:.2f}\"):\n",
    "    rects = ax.patches\n",
    "    for rect in rects:\n",
    "        x_value = rect.get_width()\n",
    "        y_value = rect.get_y() + rect.get_height() / 2\n",
    "        space   = 5\n",
    "        ha      = 'left'\n",
    "        label   = labformat.format(x_value) ## annotates bars with height labels, with 2 decimal points\n",
    "        plt.annotate(label, (x_value, y_value), xytext=(space, 0), textcoords=\"offset points\", va='center', ha=ha, color=color)\n"
   ]
  },
  {
   "cell_type": "code",
   "execution_count": 37,
   "metadata": {},
   "outputs": [
    {
     "data": {
      "image/png": "[encoded data removed]",
      "text/plain": [
       "<Figure size 576x72 with 2 Axes>"
      ]
     },
     "metadata": {
      "needs_background": "light"
     },
     "output_type": "display_data"
    },
    {
     "data": {
      "image/png": "[encoded data removed]",
      "text/plain": [
       "<Figure size 576x72 with 2 Axes>"
      ]
     },
     "metadata": {
      "needs_background": "light"
     },
     "output_type": "display_data"
    },
    {
     "data": {
      "image/png": "[encoded data removed]",
      "text/plain": [
       "<Figure size 576x72 with 2 Axes>"
      ]
     },
     "metadata": {
      "needs_background": "light"
     },
     "output_type": "display_data"
    },
    {
     "data": {
      "image/png": "[encoded data removed]",
      "text/plain": [
       "<Figure size 576x72 with 2 Axes>"
      ]
     },
     "metadata": {
      "needs_background": "light"
     },
     "output_type": "display_data"
    },
    {
     "data": {
      "image/png": "[encoded data removed]",
      "text/plain": [
       "<Figure size 576x72 with 2 Axes>"
      ]
     },
     "metadata": {
      "needs_background": "light"
     },
     "output_type": "display_data"
    },
    {
     "data": {
      "image/png": "[encoded data removed]",
      "text/plain": [
       "<Figure size 576x72 with 2 Axes>"
      ]
     },
     "metadata": {
      "needs_background": "light"
     },
     "output_type": "display_data"
    },
    {
     "data": {
      "image/png": "[encoded data removed]",
      "text/plain": [
       "<Figure size 576x72 with 2 Axes>"
      ]
     },
     "metadata": {
      "needs_background": "light"
     },
     "output_type": "display_data"
    },
    {
     "data": {
      "image/png": "[encoded data removed]",
      "text/plain": [
       "<Figure size 576x72 with 2 Axes>"
      ]
     },
     "metadata": {
      "needs_background": "light"
     },
     "output_type": "display_data"
    },
    {
     "data": {
      "image/png": "[encoded data removed]",
      "text/plain": [
       "<Figure size 576x72 with 2 Axes>"
      ]
     },
     "metadata": {
      "needs_background": "light"
     },
     "output_type": "display_data"
    },
    {
     "data": {
      "image/png": "[encoded data removed]",
      "text/plain": [
       "<Figure size 576x72 with 2 Axes>"
      ]
     },
     "metadata": {
      "needs_background": "light"
     },
     "output_type": "display_data"
    },
    {
     "data": {
      "image/png": "[encoded data removed]",
      "text/plain": [
       "<Figure size 576x72 with 2 Axes>"
      ]
     },
     "metadata": {
      "needs_background": "light"
     },
     "output_type": "display_data"
    },
    {
     "data": {
      "image/png": "[encoded data removed]",
      "text/plain": [
       "<Figure size 576x72 with 2 Axes>"
      ]
     },
     "metadata": {
      "needs_background": "light"
     },
     "output_type": "display_data"
    },
    {
     "data": {
      "image/png": "[encoded data removed]",
      "text/plain": [
       "<Figure size 576x72 with 2 Axes>"
      ]
     },
     "metadata": {
      "needs_background": "light"
     },
     "output_type": "display_data"
    },
    {
     "data": {
      "image/png": "[encoded data removed]",
      "text/plain": [
       "<Figure size 576x72 with 2 Axes>"
      ]
     },
     "metadata": {
      "needs_background": "light"
     },
     "output_type": "display_data"
    },
    {
     "data": {
      "image/png": "[encoded data removed]",
      "text/plain": [
       "<Figure size 576x72 with 2 Axes>"
      ]
     },
     "metadata": {
      "needs_background": "light"
     },
     "output_type": "display_data"
    },
    {
     "data": {
      "image/png": "[encoded data removed]",
      "text/plain": [
       "<Figure size 576x72 with 2 Axes>"
      ]
     },
     "metadata": {
      "needs_background": "light"
     },
     "output_type": "display_data"
    }
   ],
   "source": [
    "pdf = PdfPages(\"%s/hapnet_popcomp_perhap.pdf\" % (outdir))\n",
    "\n",
    "for i,clui in enumerate(clu_list_ids_fil):\n",
    "\n",
    "    fig = plt.figure(figsize=(8,1))\n",
    "    plt.subplots_adjust(left=None, bottom=None, right=None, top=None, wspace=0.8, hspace=None)\n",
    "    \n",
    "    # and now: some barplots with pop composition of each cluster\n",
    "    ax1 = plt.subplot(1, 2, 1)\n",
    "    hap_labl = \"Pop composition, cluster \"+str(clui)+\" n=\"+str(clu_list_cou_fil[i])\n",
    "    hap_clui = loc_components_id_dati[\"hap_id\"][loc_components_id_dati[\"hap_cluster\"] == int(clui)]\n",
    "    hap_popi = loc_components_id_dati[\"pop\"][loc_components_id_dati[\"hap_cluster\"] == int(clui)]\n",
    "    pie_labels = oc_popl\n",
    "    pie_counts = [len(np.where(hap_popi==popi)[0]) for popi in pie_labels]\n",
    "    pie_colors = [pos_colors[popi] for popi in pie_labels]\n",
    "    plt.barh(width=pie_counts[::-1],y=pie_labels[::-1],color=pie_colors[::-1])\n",
    "    ax1.set_xlim(0,300)\n",
    "    annotate_barplot(ax=ax1, labformat=\"{:.0f}\")\n",
    "    plt.title(hap_labl)\n",
    "\n",
    "    # and next: some barplots with pop % of each cluster\n",
    "    ax2 = plt.subplot(1, 2, 2)\n",
    "    hap_labl = \"% of haps from each pop in cluster\"\n",
    "    pie_coutot = oc_sampleh.groupby(\"population\").size()\n",
    "    pie_coutot = pie_coutot[pie_labels]\n",
    "    pie_fracti = pie_counts / pie_coutot * 100\n",
    "    plt.barh(width=pie_fracti[::-1],y=pie_labels[::-1],color=pie_colors[::-1])\n",
    "    annotate_barplot(ax=ax2, labformat=\"{:.2f}\")\n",
    "    ax2.set_xlabel(\"%\")\n",
    "    ax2.set_xlim(0,100)\n",
    "\n",
    "    pdf.savefig(fig,bbox_inches='tight')\n",
    "    \n",
    "pdf.close()"
   ]
  },
  {
   "cell_type": "code",
   "execution_count": 38,
   "metadata": {},
   "outputs": [
    {
     "data": {
      "image/png": "[encoded data removed]",
      "text/plain": [
       "<Figure size 144x144 with 1 Axes>"
      ]
     },
     "metadata": {},
     "output_type": "display_data"
    },
    {
     "data": {
      "image/png": "[encoded data removed]",
      "text/plain": [
       "<Figure size 144x144 with 1 Axes>"
      ]
     },
     "metadata": {},
     "output_type": "display_data"
    },
    {
     "data": {
      "image/png": "[encoded data removed]",
      "text/plain": [
       "<Figure size 144x144 with 1 Axes>"
      ]
     },
     "metadata": {},
     "output_type": "display_data"
    },
    {
     "data": {
      "image/png": "[encoded data removed]",
      "text/plain": [
       "<Figure size 144x144 with 1 Axes>"
      ]
     },
     "metadata": {},
     "output_type": "display_data"
    },
    {
     "data": {
      "image/png": "[encoded data removed]",
      "text/plain": [
       "<Figure size 144x144 with 1 Axes>"
      ]
     },
     "metadata": {},
     "output_type": "display_data"
    },
    {
     "data": {
      "image/png": "[encoded data removed]",
      "text/plain": [
       "<Figure size 144x144 with 1 Axes>"
      ]
     },
     "metadata": {},
     "output_type": "display_data"
    },
    {
     "data": {
      "image/png": "[encoded data removed]",
      "text/plain": [
       "<Figure size 144x144 with 1 Axes>"
      ]
     },
     "metadata": {},
     "output_type": "display_data"
    },
    {
     "data": {
      "image/png": "[encoded data removed]",
      "text/plain": [
       "<Figure size 144x144 with 1 Axes>"
      ]
     },
     "metadata": {},
     "output_type": "display_data"
    },
    {
     "data": {
      "image/png": "[encoded data removed]",
      "text/plain": [
       "<Figure size 144x144 with 1 Axes>"
      ]
     },
     "metadata": {},
     "output_type": "display_data"
    }
   ],
   "source": [
    "pdf = PdfPages(\"%s/hapnet_popcomp_perpop.pdf\" % (outdir))\n",
    "\n",
    "for popi in oc_popl:\n",
    "    \n",
    "    fig = plt.figure(figsize=(2,2))\n",
    "    \n",
    "    ax2 = plt.subplot(1, 1, 1)\n",
    "\n",
    "    hap_popi = loc_components_id_dati[\"hap_cluster\"][loc_components_id_dati[\"pop\"] == popi]\n",
    "    pie_coun = [sum(hap_popi == i) for i in clu_list_ids_fil]\n",
    "    pie_coub = np.append(pie_coun, len(hap_popi)-sum(pie_coun))\n",
    "    pie_labb = np.append(clu_list_ids_fil, \"other\")\n",
    "    pie_titl = \"Pop composition \"+popi+\" n=\"+str(len(hap_popi))\n",
    "    ax2.pie(pie_coub,labels=pie_labb, autopct=\"%1.1f%%\")\n",
    "    plt.title(pie_titl)\n",
    "    pdf.savefig(fig,bbox_inches='tight')\n",
    "    \n",
    "pdf.close()"
   ]
  }
 ],
 "metadata": {
  "kernelspec": {
   "display_name": "Python 3",
   "language": "python",
   "name": "python3"
  },
  "language_info": {
   "codemirror_mode": {
    "name": "ipython",
    "version": 3
   },
   "file_extension": ".py",
   "mimetype": "text/x-python",
   "name": "python",
   "nbconvert_exporter": "python",
   "pygments_lexer": "ipython3",
   "version": "3.7.4"
  }
 },
 "nbformat": 4,
 "nbformat_minor": 4
}
